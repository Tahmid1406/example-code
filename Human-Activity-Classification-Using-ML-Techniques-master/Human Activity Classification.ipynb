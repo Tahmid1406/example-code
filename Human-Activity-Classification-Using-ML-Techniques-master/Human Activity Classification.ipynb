{
 "cells": [
  {
   "cell_type": "code",
   "execution_count": 1,
   "metadata": {},
   "outputs": [],
   "source": [
    "import pandas as pd\n",
    "from sklearn.model_selection import train_test_split\n",
    "from sklearn.preprocessing import StandardScaler\n",
    "from sklearn.metrics import f1_score, accuracy_score\n",
    "import xgboost as xgb\n",
    "import matplotlib.pyplot as plt\n",
    "import seaborn as sns\n",
    "\n",
    "import warnings\n",
    "warnings.filterwarnings('ignore')"
   ]
  },
  {
   "cell_type": "code",
   "execution_count": 2,
   "metadata": {},
   "outputs": [],
   "source": [
    "train = pd.read_csv('./data/Human/train.csv')\n",
    "test = pd.read_csv('./data/Human/test.csv')"
   ]
  },
  {
   "cell_type": "code",
   "execution_count": 3,
   "metadata": {},
   "outputs": [
    {
     "data": {
      "text/html": [
       "<div>\n",
       "<style scoped>\n",
       "    .dataframe tbody tr th:only-of-type {\n",
       "        vertical-align: middle;\n",
       "    }\n",
       "\n",
       "    .dataframe tbody tr th {\n",
       "        vertical-align: top;\n",
       "    }\n",
       "\n",
       "    .dataframe thead th {\n",
       "        text-align: right;\n",
       "    }\n",
       "</style>\n",
       "<table border=\"1\" class=\"dataframe\">\n",
       "  <thead>\n",
       "    <tr style=\"text-align: right;\">\n",
       "      <th></th>\n",
       "      <th>tBodyAcc-mean()-X</th>\n",
       "      <th>tBodyAcc-mean()-Y</th>\n",
       "      <th>tBodyAcc-mean()-Z</th>\n",
       "      <th>tBodyAcc-std()-X</th>\n",
       "      <th>tBodyAcc-std()-Y</th>\n",
       "      <th>tBodyAcc-std()-Z</th>\n",
       "      <th>tBodyAcc-mad()-X</th>\n",
       "      <th>tBodyAcc-mad()-Y</th>\n",
       "      <th>tBodyAcc-mad()-Z</th>\n",
       "      <th>tBodyAcc-max()-X</th>\n",
       "      <th>...</th>\n",
       "      <th>fBodyBodyGyroJerkMag-kurtosis()</th>\n",
       "      <th>angle(tBodyAccMean,gravity)</th>\n",
       "      <th>angle(tBodyAccJerkMean),gravityMean)</th>\n",
       "      <th>angle(tBodyGyroMean,gravityMean)</th>\n",
       "      <th>angle(tBodyGyroJerkMean,gravityMean)</th>\n",
       "      <th>angle(X,gravityMean)</th>\n",
       "      <th>angle(Y,gravityMean)</th>\n",
       "      <th>angle(Z,gravityMean)</th>\n",
       "      <th>subject</th>\n",
       "      <th>Activity</th>\n",
       "    </tr>\n",
       "  </thead>\n",
       "  <tbody>\n",
       "    <tr>\n",
       "      <th>0</th>\n",
       "      <td>0.288585</td>\n",
       "      <td>-0.020294</td>\n",
       "      <td>-0.132905</td>\n",
       "      <td>-0.995279</td>\n",
       "      <td>-0.983111</td>\n",
       "      <td>-0.913526</td>\n",
       "      <td>-0.995112</td>\n",
       "      <td>-0.983185</td>\n",
       "      <td>-0.923527</td>\n",
       "      <td>-0.934724</td>\n",
       "      <td>...</td>\n",
       "      <td>-0.710304</td>\n",
       "      <td>-0.112754</td>\n",
       "      <td>0.030400</td>\n",
       "      <td>-0.464761</td>\n",
       "      <td>-0.018446</td>\n",
       "      <td>-0.841247</td>\n",
       "      <td>0.179941</td>\n",
       "      <td>-0.058627</td>\n",
       "      <td>1</td>\n",
       "      <td>STANDING</td>\n",
       "    </tr>\n",
       "    <tr>\n",
       "      <th>1</th>\n",
       "      <td>0.278419</td>\n",
       "      <td>-0.016411</td>\n",
       "      <td>-0.123520</td>\n",
       "      <td>-0.998245</td>\n",
       "      <td>-0.975300</td>\n",
       "      <td>-0.960322</td>\n",
       "      <td>-0.998807</td>\n",
       "      <td>-0.974914</td>\n",
       "      <td>-0.957686</td>\n",
       "      <td>-0.943068</td>\n",
       "      <td>...</td>\n",
       "      <td>-0.861499</td>\n",
       "      <td>0.053477</td>\n",
       "      <td>-0.007435</td>\n",
       "      <td>-0.732626</td>\n",
       "      <td>0.703511</td>\n",
       "      <td>-0.844788</td>\n",
       "      <td>0.180289</td>\n",
       "      <td>-0.054317</td>\n",
       "      <td>1</td>\n",
       "      <td>STANDING</td>\n",
       "    </tr>\n",
       "    <tr>\n",
       "      <th>2</th>\n",
       "      <td>0.279653</td>\n",
       "      <td>-0.019467</td>\n",
       "      <td>-0.113462</td>\n",
       "      <td>-0.995380</td>\n",
       "      <td>-0.967187</td>\n",
       "      <td>-0.978944</td>\n",
       "      <td>-0.996520</td>\n",
       "      <td>-0.963668</td>\n",
       "      <td>-0.977469</td>\n",
       "      <td>-0.938692</td>\n",
       "      <td>...</td>\n",
       "      <td>-0.760104</td>\n",
       "      <td>-0.118559</td>\n",
       "      <td>0.177899</td>\n",
       "      <td>0.100699</td>\n",
       "      <td>0.808529</td>\n",
       "      <td>-0.848933</td>\n",
       "      <td>0.180637</td>\n",
       "      <td>-0.049118</td>\n",
       "      <td>1</td>\n",
       "      <td>STANDING</td>\n",
       "    </tr>\n",
       "    <tr>\n",
       "      <th>3</th>\n",
       "      <td>0.279174</td>\n",
       "      <td>-0.026201</td>\n",
       "      <td>-0.123283</td>\n",
       "      <td>-0.996091</td>\n",
       "      <td>-0.983403</td>\n",
       "      <td>-0.990675</td>\n",
       "      <td>-0.997099</td>\n",
       "      <td>-0.982750</td>\n",
       "      <td>-0.989302</td>\n",
       "      <td>-0.938692</td>\n",
       "      <td>...</td>\n",
       "      <td>-0.482845</td>\n",
       "      <td>-0.036788</td>\n",
       "      <td>-0.012892</td>\n",
       "      <td>0.640011</td>\n",
       "      <td>-0.485366</td>\n",
       "      <td>-0.848649</td>\n",
       "      <td>0.181935</td>\n",
       "      <td>-0.047663</td>\n",
       "      <td>1</td>\n",
       "      <td>STANDING</td>\n",
       "    </tr>\n",
       "    <tr>\n",
       "      <th>4</th>\n",
       "      <td>0.276629</td>\n",
       "      <td>-0.016570</td>\n",
       "      <td>-0.115362</td>\n",
       "      <td>-0.998139</td>\n",
       "      <td>-0.980817</td>\n",
       "      <td>-0.990482</td>\n",
       "      <td>-0.998321</td>\n",
       "      <td>-0.979672</td>\n",
       "      <td>-0.990441</td>\n",
       "      <td>-0.942469</td>\n",
       "      <td>...</td>\n",
       "      <td>-0.699205</td>\n",
       "      <td>0.123320</td>\n",
       "      <td>0.122542</td>\n",
       "      <td>0.693578</td>\n",
       "      <td>-0.615971</td>\n",
       "      <td>-0.847865</td>\n",
       "      <td>0.185151</td>\n",
       "      <td>-0.043892</td>\n",
       "      <td>1</td>\n",
       "      <td>STANDING</td>\n",
       "    </tr>\n",
       "  </tbody>\n",
       "</table>\n",
       "<p>5 rows × 563 columns</p>\n",
       "</div>"
      ],
      "text/plain": [
       "   tBodyAcc-mean()-X  tBodyAcc-mean()-Y  tBodyAcc-mean()-Z  tBodyAcc-std()-X  \\\n",
       "0           0.288585          -0.020294          -0.132905         -0.995279   \n",
       "1           0.278419          -0.016411          -0.123520         -0.998245   \n",
       "2           0.279653          -0.019467          -0.113462         -0.995380   \n",
       "3           0.279174          -0.026201          -0.123283         -0.996091   \n",
       "4           0.276629          -0.016570          -0.115362         -0.998139   \n",
       "\n",
       "   tBodyAcc-std()-Y  tBodyAcc-std()-Z  tBodyAcc-mad()-X  tBodyAcc-mad()-Y  \\\n",
       "0         -0.983111         -0.913526         -0.995112         -0.983185   \n",
       "1         -0.975300         -0.960322         -0.998807         -0.974914   \n",
       "2         -0.967187         -0.978944         -0.996520         -0.963668   \n",
       "3         -0.983403         -0.990675         -0.997099         -0.982750   \n",
       "4         -0.980817         -0.990482         -0.998321         -0.979672   \n",
       "\n",
       "   tBodyAcc-mad()-Z  tBodyAcc-max()-X  ...  fBodyBodyGyroJerkMag-kurtosis()  \\\n",
       "0         -0.923527         -0.934724  ...                        -0.710304   \n",
       "1         -0.957686         -0.943068  ...                        -0.861499   \n",
       "2         -0.977469         -0.938692  ...                        -0.760104   \n",
       "3         -0.989302         -0.938692  ...                        -0.482845   \n",
       "4         -0.990441         -0.942469  ...                        -0.699205   \n",
       "\n",
       "   angle(tBodyAccMean,gravity)  angle(tBodyAccJerkMean),gravityMean)  \\\n",
       "0                    -0.112754                              0.030400   \n",
       "1                     0.053477                             -0.007435   \n",
       "2                    -0.118559                              0.177899   \n",
       "3                    -0.036788                             -0.012892   \n",
       "4                     0.123320                              0.122542   \n",
       "\n",
       "   angle(tBodyGyroMean,gravityMean)  angle(tBodyGyroJerkMean,gravityMean)  \\\n",
       "0                         -0.464761                             -0.018446   \n",
       "1                         -0.732626                              0.703511   \n",
       "2                          0.100699                              0.808529   \n",
       "3                          0.640011                             -0.485366   \n",
       "4                          0.693578                             -0.615971   \n",
       "\n",
       "   angle(X,gravityMean)  angle(Y,gravityMean)  angle(Z,gravityMean)  subject  \\\n",
       "0             -0.841247              0.179941             -0.058627        1   \n",
       "1             -0.844788              0.180289             -0.054317        1   \n",
       "2             -0.848933              0.180637             -0.049118        1   \n",
       "3             -0.848649              0.181935             -0.047663        1   \n",
       "4             -0.847865              0.185151             -0.043892        1   \n",
       "\n",
       "   Activity  \n",
       "0  STANDING  \n",
       "1  STANDING  \n",
       "2  STANDING  \n",
       "3  STANDING  \n",
       "4  STANDING  \n",
       "\n",
       "[5 rows x 563 columns]"
      ]
     },
     "execution_count": 3,
     "metadata": {},
     "output_type": "execute_result"
    }
   ],
   "source": [
    "train.head()"
   ]
  },
  {
   "cell_type": "code",
   "execution_count": 4,
   "metadata": {},
   "outputs": [
    {
     "data": {
      "text/html": [
       "<div>\n",
       "<style scoped>\n",
       "    .dataframe tbody tr th:only-of-type {\n",
       "        vertical-align: middle;\n",
       "    }\n",
       "\n",
       "    .dataframe tbody tr th {\n",
       "        vertical-align: top;\n",
       "    }\n",
       "\n",
       "    .dataframe thead th {\n",
       "        text-align: right;\n",
       "    }\n",
       "</style>\n",
       "<table border=\"1\" class=\"dataframe\">\n",
       "  <thead>\n",
       "    <tr style=\"text-align: right;\">\n",
       "      <th></th>\n",
       "      <th>tBodyAcc-mean()-X</th>\n",
       "      <th>tBodyAcc-mean()-Y</th>\n",
       "      <th>tBodyAcc-mean()-Z</th>\n",
       "      <th>tBodyAcc-std()-X</th>\n",
       "      <th>tBodyAcc-std()-Y</th>\n",
       "      <th>tBodyAcc-std()-Z</th>\n",
       "      <th>tBodyAcc-mad()-X</th>\n",
       "      <th>tBodyAcc-mad()-Y</th>\n",
       "      <th>tBodyAcc-mad()-Z</th>\n",
       "      <th>tBodyAcc-max()-X</th>\n",
       "      <th>...</th>\n",
       "      <th>fBodyBodyGyroJerkMag-skewness()</th>\n",
       "      <th>fBodyBodyGyroJerkMag-kurtosis()</th>\n",
       "      <th>angle(tBodyAccMean,gravity)</th>\n",
       "      <th>angle(tBodyAccJerkMean),gravityMean)</th>\n",
       "      <th>angle(tBodyGyroMean,gravityMean)</th>\n",
       "      <th>angle(tBodyGyroJerkMean,gravityMean)</th>\n",
       "      <th>angle(X,gravityMean)</th>\n",
       "      <th>angle(Y,gravityMean)</th>\n",
       "      <th>angle(Z,gravityMean)</th>\n",
       "      <th>subject</th>\n",
       "    </tr>\n",
       "  </thead>\n",
       "  <tbody>\n",
       "    <tr>\n",
       "      <th>count</th>\n",
       "      <td>7352.000000</td>\n",
       "      <td>7352.000000</td>\n",
       "      <td>7352.000000</td>\n",
       "      <td>7352.000000</td>\n",
       "      <td>7352.000000</td>\n",
       "      <td>7352.000000</td>\n",
       "      <td>7352.000000</td>\n",
       "      <td>7352.000000</td>\n",
       "      <td>7352.000000</td>\n",
       "      <td>7352.000000</td>\n",
       "      <td>...</td>\n",
       "      <td>7352.000000</td>\n",
       "      <td>7352.000000</td>\n",
       "      <td>7352.000000</td>\n",
       "      <td>7352.000000</td>\n",
       "      <td>7352.000000</td>\n",
       "      <td>7352.000000</td>\n",
       "      <td>7352.000000</td>\n",
       "      <td>7352.000000</td>\n",
       "      <td>7352.000000</td>\n",
       "      <td>7352.000000</td>\n",
       "    </tr>\n",
       "    <tr>\n",
       "      <th>mean</th>\n",
       "      <td>0.274488</td>\n",
       "      <td>-0.017695</td>\n",
       "      <td>-0.109141</td>\n",
       "      <td>-0.605438</td>\n",
       "      <td>-0.510938</td>\n",
       "      <td>-0.604754</td>\n",
       "      <td>-0.630512</td>\n",
       "      <td>-0.526907</td>\n",
       "      <td>-0.606150</td>\n",
       "      <td>-0.468604</td>\n",
       "      <td>...</td>\n",
       "      <td>-0.307009</td>\n",
       "      <td>-0.625294</td>\n",
       "      <td>0.008684</td>\n",
       "      <td>0.002186</td>\n",
       "      <td>0.008726</td>\n",
       "      <td>-0.005981</td>\n",
       "      <td>-0.489547</td>\n",
       "      <td>0.058593</td>\n",
       "      <td>-0.056515</td>\n",
       "      <td>17.413085</td>\n",
       "    </tr>\n",
       "    <tr>\n",
       "      <th>std</th>\n",
       "      <td>0.070261</td>\n",
       "      <td>0.040811</td>\n",
       "      <td>0.056635</td>\n",
       "      <td>0.448734</td>\n",
       "      <td>0.502645</td>\n",
       "      <td>0.418687</td>\n",
       "      <td>0.424073</td>\n",
       "      <td>0.485942</td>\n",
       "      <td>0.414122</td>\n",
       "      <td>0.544547</td>\n",
       "      <td>...</td>\n",
       "      <td>0.321011</td>\n",
       "      <td>0.307584</td>\n",
       "      <td>0.336787</td>\n",
       "      <td>0.448306</td>\n",
       "      <td>0.608303</td>\n",
       "      <td>0.477975</td>\n",
       "      <td>0.511807</td>\n",
       "      <td>0.297480</td>\n",
       "      <td>0.279122</td>\n",
       "      <td>8.975143</td>\n",
       "    </tr>\n",
       "    <tr>\n",
       "      <th>min</th>\n",
       "      <td>-1.000000</td>\n",
       "      <td>-1.000000</td>\n",
       "      <td>-1.000000</td>\n",
       "      <td>-1.000000</td>\n",
       "      <td>-0.999873</td>\n",
       "      <td>-1.000000</td>\n",
       "      <td>-1.000000</td>\n",
       "      <td>-1.000000</td>\n",
       "      <td>-1.000000</td>\n",
       "      <td>-1.000000</td>\n",
       "      <td>...</td>\n",
       "      <td>-0.995357</td>\n",
       "      <td>-0.999765</td>\n",
       "      <td>-0.976580</td>\n",
       "      <td>-1.000000</td>\n",
       "      <td>-1.000000</td>\n",
       "      <td>-1.000000</td>\n",
       "      <td>-1.000000</td>\n",
       "      <td>-1.000000</td>\n",
       "      <td>-1.000000</td>\n",
       "      <td>1.000000</td>\n",
       "    </tr>\n",
       "    <tr>\n",
       "      <th>25%</th>\n",
       "      <td>0.262975</td>\n",
       "      <td>-0.024863</td>\n",
       "      <td>-0.120993</td>\n",
       "      <td>-0.992754</td>\n",
       "      <td>-0.978129</td>\n",
       "      <td>-0.980233</td>\n",
       "      <td>-0.993591</td>\n",
       "      <td>-0.978162</td>\n",
       "      <td>-0.980251</td>\n",
       "      <td>-0.936219</td>\n",
       "      <td>...</td>\n",
       "      <td>-0.542602</td>\n",
       "      <td>-0.845573</td>\n",
       "      <td>-0.121527</td>\n",
       "      <td>-0.289549</td>\n",
       "      <td>-0.482273</td>\n",
       "      <td>-0.376341</td>\n",
       "      <td>-0.812065</td>\n",
       "      <td>-0.017885</td>\n",
       "      <td>-0.143414</td>\n",
       "      <td>8.000000</td>\n",
       "    </tr>\n",
       "    <tr>\n",
       "      <th>50%</th>\n",
       "      <td>0.277193</td>\n",
       "      <td>-0.017219</td>\n",
       "      <td>-0.108676</td>\n",
       "      <td>-0.946196</td>\n",
       "      <td>-0.851897</td>\n",
       "      <td>-0.859365</td>\n",
       "      <td>-0.950709</td>\n",
       "      <td>-0.857328</td>\n",
       "      <td>-0.857143</td>\n",
       "      <td>-0.881637</td>\n",
       "      <td>...</td>\n",
       "      <td>-0.343685</td>\n",
       "      <td>-0.711692</td>\n",
       "      <td>0.009509</td>\n",
       "      <td>0.008943</td>\n",
       "      <td>0.008735</td>\n",
       "      <td>-0.000368</td>\n",
       "      <td>-0.709417</td>\n",
       "      <td>0.182071</td>\n",
       "      <td>0.003181</td>\n",
       "      <td>19.000000</td>\n",
       "    </tr>\n",
       "    <tr>\n",
       "      <th>75%</th>\n",
       "      <td>0.288461</td>\n",
       "      <td>-0.010783</td>\n",
       "      <td>-0.097794</td>\n",
       "      <td>-0.242813</td>\n",
       "      <td>-0.034231</td>\n",
       "      <td>-0.262415</td>\n",
       "      <td>-0.292680</td>\n",
       "      <td>-0.066701</td>\n",
       "      <td>-0.265671</td>\n",
       "      <td>-0.017129</td>\n",
       "      <td>...</td>\n",
       "      <td>-0.126979</td>\n",
       "      <td>-0.503878</td>\n",
       "      <td>0.150865</td>\n",
       "      <td>0.292861</td>\n",
       "      <td>0.506187</td>\n",
       "      <td>0.359368</td>\n",
       "      <td>-0.509079</td>\n",
       "      <td>0.248353</td>\n",
       "      <td>0.107659</td>\n",
       "      <td>26.000000</td>\n",
       "    </tr>\n",
       "    <tr>\n",
       "      <th>max</th>\n",
       "      <td>1.000000</td>\n",
       "      <td>1.000000</td>\n",
       "      <td>1.000000</td>\n",
       "      <td>1.000000</td>\n",
       "      <td>0.916238</td>\n",
       "      <td>1.000000</td>\n",
       "      <td>1.000000</td>\n",
       "      <td>0.967664</td>\n",
       "      <td>1.000000</td>\n",
       "      <td>1.000000</td>\n",
       "      <td>...</td>\n",
       "      <td>0.989538</td>\n",
       "      <td>0.956845</td>\n",
       "      <td>1.000000</td>\n",
       "      <td>1.000000</td>\n",
       "      <td>0.998702</td>\n",
       "      <td>0.996078</td>\n",
       "      <td>1.000000</td>\n",
       "      <td>0.478157</td>\n",
       "      <td>1.000000</td>\n",
       "      <td>30.000000</td>\n",
       "    </tr>\n",
       "  </tbody>\n",
       "</table>\n",
       "<p>8 rows × 562 columns</p>\n",
       "</div>"
      ],
      "text/plain": [
       "       tBodyAcc-mean()-X  tBodyAcc-mean()-Y  tBodyAcc-mean()-Z  \\\n",
       "count        7352.000000        7352.000000        7352.000000   \n",
       "mean            0.274488          -0.017695          -0.109141   \n",
       "std             0.070261           0.040811           0.056635   \n",
       "min            -1.000000          -1.000000          -1.000000   \n",
       "25%             0.262975          -0.024863          -0.120993   \n",
       "50%             0.277193          -0.017219          -0.108676   \n",
       "75%             0.288461          -0.010783          -0.097794   \n",
       "max             1.000000           1.000000           1.000000   \n",
       "\n",
       "       tBodyAcc-std()-X  tBodyAcc-std()-Y  tBodyAcc-std()-Z  tBodyAcc-mad()-X  \\\n",
       "count       7352.000000       7352.000000       7352.000000       7352.000000   \n",
       "mean          -0.605438         -0.510938         -0.604754         -0.630512   \n",
       "std            0.448734          0.502645          0.418687          0.424073   \n",
       "min           -1.000000         -0.999873         -1.000000         -1.000000   \n",
       "25%           -0.992754         -0.978129         -0.980233         -0.993591   \n",
       "50%           -0.946196         -0.851897         -0.859365         -0.950709   \n",
       "75%           -0.242813         -0.034231         -0.262415         -0.292680   \n",
       "max            1.000000          0.916238          1.000000          1.000000   \n",
       "\n",
       "       tBodyAcc-mad()-Y  tBodyAcc-mad()-Z  tBodyAcc-max()-X  ...  \\\n",
       "count       7352.000000       7352.000000       7352.000000  ...   \n",
       "mean          -0.526907         -0.606150         -0.468604  ...   \n",
       "std            0.485942          0.414122          0.544547  ...   \n",
       "min           -1.000000         -1.000000         -1.000000  ...   \n",
       "25%           -0.978162         -0.980251         -0.936219  ...   \n",
       "50%           -0.857328         -0.857143         -0.881637  ...   \n",
       "75%           -0.066701         -0.265671         -0.017129  ...   \n",
       "max            0.967664          1.000000          1.000000  ...   \n",
       "\n",
       "       fBodyBodyGyroJerkMag-skewness()  fBodyBodyGyroJerkMag-kurtosis()  \\\n",
       "count                      7352.000000                      7352.000000   \n",
       "mean                         -0.307009                        -0.625294   \n",
       "std                           0.321011                         0.307584   \n",
       "min                          -0.995357                        -0.999765   \n",
       "25%                          -0.542602                        -0.845573   \n",
       "50%                          -0.343685                        -0.711692   \n",
       "75%                          -0.126979                        -0.503878   \n",
       "max                           0.989538                         0.956845   \n",
       "\n",
       "       angle(tBodyAccMean,gravity)  angle(tBodyAccJerkMean),gravityMean)  \\\n",
       "count                  7352.000000                           7352.000000   \n",
       "mean                      0.008684                              0.002186   \n",
       "std                       0.336787                              0.448306   \n",
       "min                      -0.976580                             -1.000000   \n",
       "25%                      -0.121527                             -0.289549   \n",
       "50%                       0.009509                              0.008943   \n",
       "75%                       0.150865                              0.292861   \n",
       "max                       1.000000                              1.000000   \n",
       "\n",
       "       angle(tBodyGyroMean,gravityMean)  angle(tBodyGyroJerkMean,gravityMean)  \\\n",
       "count                       7352.000000                           7352.000000   \n",
       "mean                           0.008726                             -0.005981   \n",
       "std                            0.608303                              0.477975   \n",
       "min                           -1.000000                             -1.000000   \n",
       "25%                           -0.482273                             -0.376341   \n",
       "50%                            0.008735                             -0.000368   \n",
       "75%                            0.506187                              0.359368   \n",
       "max                            0.998702                              0.996078   \n",
       "\n",
       "       angle(X,gravityMean)  angle(Y,gravityMean)  angle(Z,gravityMean)  \\\n",
       "count           7352.000000           7352.000000           7352.000000   \n",
       "mean              -0.489547              0.058593             -0.056515   \n",
       "std                0.511807              0.297480              0.279122   \n",
       "min               -1.000000             -1.000000             -1.000000   \n",
       "25%               -0.812065             -0.017885             -0.143414   \n",
       "50%               -0.709417              0.182071              0.003181   \n",
       "75%               -0.509079              0.248353              0.107659   \n",
       "max                1.000000              0.478157              1.000000   \n",
       "\n",
       "           subject  \n",
       "count  7352.000000  \n",
       "mean     17.413085  \n",
       "std       8.975143  \n",
       "min       1.000000  \n",
       "25%       8.000000  \n",
       "50%      19.000000  \n",
       "75%      26.000000  \n",
       "max      30.000000  \n",
       "\n",
       "[8 rows x 562 columns]"
      ]
     },
     "execution_count": 4,
     "metadata": {},
     "output_type": "execute_result"
    }
   ],
   "source": [
    "train.describe()"
   ]
  },
  {
   "cell_type": "code",
   "execution_count": 5,
   "metadata": {},
   "outputs": [
    {
     "data": {
      "text/html": [
       "<div>\n",
       "<style scoped>\n",
       "    .dataframe tbody tr th:only-of-type {\n",
       "        vertical-align: middle;\n",
       "    }\n",
       "\n",
       "    .dataframe tbody tr th {\n",
       "        vertical-align: top;\n",
       "    }\n",
       "\n",
       "    .dataframe thead th {\n",
       "        text-align: right;\n",
       "    }\n",
       "</style>\n",
       "<table border=\"1\" class=\"dataframe\">\n",
       "  <thead>\n",
       "    <tr style=\"text-align: right;\">\n",
       "      <th></th>\n",
       "      <th>tBodyAcc-mean()-X</th>\n",
       "      <th>tBodyAcc-mean()-Y</th>\n",
       "      <th>tBodyAcc-mean()-Z</th>\n",
       "      <th>tBodyAcc-std()-X</th>\n",
       "      <th>tBodyAcc-std()-Y</th>\n",
       "      <th>tBodyAcc-std()-Z</th>\n",
       "      <th>tBodyAcc-mad()-X</th>\n",
       "      <th>tBodyAcc-mad()-Y</th>\n",
       "      <th>tBodyAcc-mad()-Z</th>\n",
       "      <th>tBodyAcc-max()-X</th>\n",
       "      <th>...</th>\n",
       "      <th>fBodyBodyGyroJerkMag-skewness()</th>\n",
       "      <th>fBodyBodyGyroJerkMag-kurtosis()</th>\n",
       "      <th>angle(tBodyAccMean,gravity)</th>\n",
       "      <th>angle(tBodyAccJerkMean),gravityMean)</th>\n",
       "      <th>angle(tBodyGyroMean,gravityMean)</th>\n",
       "      <th>angle(tBodyGyroJerkMean,gravityMean)</th>\n",
       "      <th>angle(X,gravityMean)</th>\n",
       "      <th>angle(Y,gravityMean)</th>\n",
       "      <th>angle(Z,gravityMean)</th>\n",
       "      <th>subject</th>\n",
       "    </tr>\n",
       "  </thead>\n",
       "  <tbody>\n",
       "    <tr>\n",
       "      <th>count</th>\n",
       "      <td>2947.000000</td>\n",
       "      <td>2947.000000</td>\n",
       "      <td>2947.000000</td>\n",
       "      <td>2947.000000</td>\n",
       "      <td>2947.000000</td>\n",
       "      <td>2947.000000</td>\n",
       "      <td>2947.000000</td>\n",
       "      <td>2947.000000</td>\n",
       "      <td>2947.000000</td>\n",
       "      <td>2947.000000</td>\n",
       "      <td>...</td>\n",
       "      <td>2947.000000</td>\n",
       "      <td>2947.000000</td>\n",
       "      <td>2947.000000</td>\n",
       "      <td>2947.000000</td>\n",
       "      <td>2947.000000</td>\n",
       "      <td>2947.000000</td>\n",
       "      <td>2947.000000</td>\n",
       "      <td>2947.000000</td>\n",
       "      <td>2947.000000</td>\n",
       "      <td>2947.000000</td>\n",
       "    </tr>\n",
       "    <tr>\n",
       "      <th>mean</th>\n",
       "      <td>0.273996</td>\n",
       "      <td>-0.017863</td>\n",
       "      <td>-0.108386</td>\n",
       "      <td>-0.613635</td>\n",
       "      <td>-0.508330</td>\n",
       "      <td>-0.633797</td>\n",
       "      <td>-0.641278</td>\n",
       "      <td>-0.522676</td>\n",
       "      <td>-0.637038</td>\n",
       "      <td>-0.462063</td>\n",
       "      <td>...</td>\n",
       "      <td>-0.277593</td>\n",
       "      <td>-0.598756</td>\n",
       "      <td>0.005264</td>\n",
       "      <td>0.003799</td>\n",
       "      <td>0.040029</td>\n",
       "      <td>-0.017298</td>\n",
       "      <td>-0.513923</td>\n",
       "      <td>0.074886</td>\n",
       "      <td>-0.048720</td>\n",
       "      <td>12.986427</td>\n",
       "    </tr>\n",
       "    <tr>\n",
       "      <th>std</th>\n",
       "      <td>0.060570</td>\n",
       "      <td>0.025745</td>\n",
       "      <td>0.042747</td>\n",
       "      <td>0.412597</td>\n",
       "      <td>0.494269</td>\n",
       "      <td>0.362699</td>\n",
       "      <td>0.385199</td>\n",
       "      <td>0.479899</td>\n",
       "      <td>0.357753</td>\n",
       "      <td>0.523916</td>\n",
       "      <td>...</td>\n",
       "      <td>0.317245</td>\n",
       "      <td>0.311042</td>\n",
       "      <td>0.336147</td>\n",
       "      <td>0.445077</td>\n",
       "      <td>0.634989</td>\n",
       "      <td>0.501311</td>\n",
       "      <td>0.509205</td>\n",
       "      <td>0.324300</td>\n",
       "      <td>0.241467</td>\n",
       "      <td>6.950984</td>\n",
       "    </tr>\n",
       "    <tr>\n",
       "      <th>min</th>\n",
       "      <td>-0.592004</td>\n",
       "      <td>-0.362884</td>\n",
       "      <td>-0.576184</td>\n",
       "      <td>-0.999606</td>\n",
       "      <td>-1.000000</td>\n",
       "      <td>-0.998955</td>\n",
       "      <td>-0.999417</td>\n",
       "      <td>-0.999914</td>\n",
       "      <td>-0.998899</td>\n",
       "      <td>-0.952357</td>\n",
       "      <td>...</td>\n",
       "      <td>-1.000000</td>\n",
       "      <td>-1.000000</td>\n",
       "      <td>-1.000000</td>\n",
       "      <td>-0.993402</td>\n",
       "      <td>-0.998898</td>\n",
       "      <td>-0.991096</td>\n",
       "      <td>-0.984195</td>\n",
       "      <td>-0.913704</td>\n",
       "      <td>-0.949228</td>\n",
       "      <td>2.000000</td>\n",
       "    </tr>\n",
       "    <tr>\n",
       "      <th>25%</th>\n",
       "      <td>0.262075</td>\n",
       "      <td>-0.024961</td>\n",
       "      <td>-0.121162</td>\n",
       "      <td>-0.990914</td>\n",
       "      <td>-0.973664</td>\n",
       "      <td>-0.976122</td>\n",
       "      <td>-0.992333</td>\n",
       "      <td>-0.974131</td>\n",
       "      <td>-0.975352</td>\n",
       "      <td>-0.934447</td>\n",
       "      <td>...</td>\n",
       "      <td>-0.517494</td>\n",
       "      <td>-0.829593</td>\n",
       "      <td>-0.130541</td>\n",
       "      <td>-0.282600</td>\n",
       "      <td>-0.518924</td>\n",
       "      <td>-0.428375</td>\n",
       "      <td>-0.829722</td>\n",
       "      <td>0.022140</td>\n",
       "      <td>-0.098485</td>\n",
       "      <td>9.000000</td>\n",
       "    </tr>\n",
       "    <tr>\n",
       "      <th>50%</th>\n",
       "      <td>0.277113</td>\n",
       "      <td>-0.016967</td>\n",
       "      <td>-0.108458</td>\n",
       "      <td>-0.931214</td>\n",
       "      <td>-0.790972</td>\n",
       "      <td>-0.827534</td>\n",
       "      <td>-0.937664</td>\n",
       "      <td>-0.799907</td>\n",
       "      <td>-0.817005</td>\n",
       "      <td>-0.852659</td>\n",
       "      <td>...</td>\n",
       "      <td>-0.311023</td>\n",
       "      <td>-0.683672</td>\n",
       "      <td>0.005188</td>\n",
       "      <td>0.006767</td>\n",
       "      <td>0.047113</td>\n",
       "      <td>-0.026726</td>\n",
       "      <td>-0.729648</td>\n",
       "      <td>0.181563</td>\n",
       "      <td>-0.010671</td>\n",
       "      <td>12.000000</td>\n",
       "    </tr>\n",
       "    <tr>\n",
       "      <th>75%</th>\n",
       "      <td>0.288097</td>\n",
       "      <td>-0.010143</td>\n",
       "      <td>-0.097123</td>\n",
       "      <td>-0.267395</td>\n",
       "      <td>-0.105919</td>\n",
       "      <td>-0.311432</td>\n",
       "      <td>-0.321719</td>\n",
       "      <td>-0.133488</td>\n",
       "      <td>-0.322771</td>\n",
       "      <td>-0.009965</td>\n",
       "      <td>...</td>\n",
       "      <td>-0.083559</td>\n",
       "      <td>-0.458332</td>\n",
       "      <td>0.146200</td>\n",
       "      <td>0.288113</td>\n",
       "      <td>0.622151</td>\n",
       "      <td>0.394387</td>\n",
       "      <td>-0.545939</td>\n",
       "      <td>0.260252</td>\n",
       "      <td>0.092373</td>\n",
       "      <td>18.000000</td>\n",
       "    </tr>\n",
       "    <tr>\n",
       "      <th>max</th>\n",
       "      <td>0.671887</td>\n",
       "      <td>0.246106</td>\n",
       "      <td>0.494114</td>\n",
       "      <td>0.465299</td>\n",
       "      <td>1.000000</td>\n",
       "      <td>0.489703</td>\n",
       "      <td>0.439657</td>\n",
       "      <td>1.000000</td>\n",
       "      <td>0.427958</td>\n",
       "      <td>0.786436</td>\n",
       "      <td>...</td>\n",
       "      <td>1.000000</td>\n",
       "      <td>1.000000</td>\n",
       "      <td>0.998898</td>\n",
       "      <td>0.986347</td>\n",
       "      <td>1.000000</td>\n",
       "      <td>1.000000</td>\n",
       "      <td>0.833180</td>\n",
       "      <td>1.000000</td>\n",
       "      <td>0.973113</td>\n",
       "      <td>24.000000</td>\n",
       "    </tr>\n",
       "  </tbody>\n",
       "</table>\n",
       "<p>8 rows × 562 columns</p>\n",
       "</div>"
      ],
      "text/plain": [
       "       tBodyAcc-mean()-X  tBodyAcc-mean()-Y  tBodyAcc-mean()-Z  \\\n",
       "count        2947.000000        2947.000000        2947.000000   \n",
       "mean            0.273996          -0.017863          -0.108386   \n",
       "std             0.060570           0.025745           0.042747   \n",
       "min            -0.592004          -0.362884          -0.576184   \n",
       "25%             0.262075          -0.024961          -0.121162   \n",
       "50%             0.277113          -0.016967          -0.108458   \n",
       "75%             0.288097          -0.010143          -0.097123   \n",
       "max             0.671887           0.246106           0.494114   \n",
       "\n",
       "       tBodyAcc-std()-X  tBodyAcc-std()-Y  tBodyAcc-std()-Z  tBodyAcc-mad()-X  \\\n",
       "count       2947.000000       2947.000000       2947.000000       2947.000000   \n",
       "mean          -0.613635         -0.508330         -0.633797         -0.641278   \n",
       "std            0.412597          0.494269          0.362699          0.385199   \n",
       "min           -0.999606         -1.000000         -0.998955         -0.999417   \n",
       "25%           -0.990914         -0.973664         -0.976122         -0.992333   \n",
       "50%           -0.931214         -0.790972         -0.827534         -0.937664   \n",
       "75%           -0.267395         -0.105919         -0.311432         -0.321719   \n",
       "max            0.465299          1.000000          0.489703          0.439657   \n",
       "\n",
       "       tBodyAcc-mad()-Y  tBodyAcc-mad()-Z  tBodyAcc-max()-X  ...  \\\n",
       "count       2947.000000       2947.000000       2947.000000  ...   \n",
       "mean          -0.522676         -0.637038         -0.462063  ...   \n",
       "std            0.479899          0.357753          0.523916  ...   \n",
       "min           -0.999914         -0.998899         -0.952357  ...   \n",
       "25%           -0.974131         -0.975352         -0.934447  ...   \n",
       "50%           -0.799907         -0.817005         -0.852659  ...   \n",
       "75%           -0.133488         -0.322771         -0.009965  ...   \n",
       "max            1.000000          0.427958          0.786436  ...   \n",
       "\n",
       "       fBodyBodyGyroJerkMag-skewness()  fBodyBodyGyroJerkMag-kurtosis()  \\\n",
       "count                      2947.000000                      2947.000000   \n",
       "mean                         -0.277593                        -0.598756   \n",
       "std                           0.317245                         0.311042   \n",
       "min                          -1.000000                        -1.000000   \n",
       "25%                          -0.517494                        -0.829593   \n",
       "50%                          -0.311023                        -0.683672   \n",
       "75%                          -0.083559                        -0.458332   \n",
       "max                           1.000000                         1.000000   \n",
       "\n",
       "       angle(tBodyAccMean,gravity)  angle(tBodyAccJerkMean),gravityMean)  \\\n",
       "count                  2947.000000                           2947.000000   \n",
       "mean                      0.005264                              0.003799   \n",
       "std                       0.336147                              0.445077   \n",
       "min                      -1.000000                             -0.993402   \n",
       "25%                      -0.130541                             -0.282600   \n",
       "50%                       0.005188                              0.006767   \n",
       "75%                       0.146200                              0.288113   \n",
       "max                       0.998898                              0.986347   \n",
       "\n",
       "       angle(tBodyGyroMean,gravityMean)  angle(tBodyGyroJerkMean,gravityMean)  \\\n",
       "count                       2947.000000                           2947.000000   \n",
       "mean                           0.040029                             -0.017298   \n",
       "std                            0.634989                              0.501311   \n",
       "min                           -0.998898                             -0.991096   \n",
       "25%                           -0.518924                             -0.428375   \n",
       "50%                            0.047113                             -0.026726   \n",
       "75%                            0.622151                              0.394387   \n",
       "max                            1.000000                              1.000000   \n",
       "\n",
       "       angle(X,gravityMean)  angle(Y,gravityMean)  angle(Z,gravityMean)  \\\n",
       "count           2947.000000           2947.000000           2947.000000   \n",
       "mean              -0.513923              0.074886             -0.048720   \n",
       "std                0.509205              0.324300              0.241467   \n",
       "min               -0.984195             -0.913704             -0.949228   \n",
       "25%               -0.829722              0.022140             -0.098485   \n",
       "50%               -0.729648              0.181563             -0.010671   \n",
       "75%               -0.545939              0.260252              0.092373   \n",
       "max                0.833180              1.000000              0.973113   \n",
       "\n",
       "           subject  \n",
       "count  2947.000000  \n",
       "mean     12.986427  \n",
       "std       6.950984  \n",
       "min       2.000000  \n",
       "25%       9.000000  \n",
       "50%      12.000000  \n",
       "75%      18.000000  \n",
       "max      24.000000  \n",
       "\n",
       "[8 rows x 562 columns]"
      ]
     },
     "execution_count": 5,
     "metadata": {},
     "output_type": "execute_result"
    }
   ],
   "source": [
    "test.describe()"
   ]
  },
  {
   "cell_type": "code",
   "execution_count": 6,
   "metadata": {},
   "outputs": [],
   "source": [
    "cols = train.columns\n"
   ]
  },
  {
   "cell_type": "code",
   "execution_count": 7,
   "metadata": {},
   "outputs": [
    {
     "data": {
      "text/plain": [
       "tBodyAcc-mean()-X       0\n",
       "tBodyAcc-mean()-Y       0\n",
       "tBodyAcc-mean()-Z       0\n",
       "tBodyAcc-std()-X        0\n",
       "tBodyAcc-std()-Y        0\n",
       "                       ..\n",
       "angle(X,gravityMean)    0\n",
       "angle(Y,gravityMean)    0\n",
       "angle(Z,gravityMean)    0\n",
       "subject                 0\n",
       "Activity                0\n",
       "Length: 563, dtype: int64"
      ]
     },
     "execution_count": 7,
     "metadata": {},
     "output_type": "execute_result"
    }
   ],
   "source": [
    "# checking if there's any null values in the dataset\n",
    "train.isnull().sum()"
   ]
  },
  {
   "cell_type": "code",
   "execution_count": 8,
   "metadata": {},
   "outputs": [
    {
     "name": "stdout",
     "output_type": "stream",
     "text": [
      "<class 'pandas.core.frame.DataFrame'>\n",
      "RangeIndex: 7352 entries, 0 to 7351\n",
      "Columns: 563 entries, tBodyAcc-mean()-X to Activity\n",
      "dtypes: float64(561), int64(1), object(1)\n",
      "memory usage: 31.6+ MB\n"
     ]
    }
   ],
   "source": [
    "# checking the datatypes of the featues\n",
    "train.info()"
   ]
  },
  {
   "cell_type": "code",
   "execution_count": 9,
   "metadata": {},
   "outputs": [],
   "source": [
    "# checking the presence of classwise instances\n",
    "# this helps understading if the dataset is skewed or biased towards a particular class or not\n",
    "\n",
    "instance_plot = train['Activity'].value_counts()"
   ]
  },
  {
   "cell_type": "code",
   "execution_count": 10,
   "metadata": {},
   "outputs": [
    {
     "data": {
      "text/plain": [
       "<seaborn.axisgrid.FacetGrid at 0x1d16b99da90>"
      ]
     },
     "execution_count": 10,
     "metadata": {},
     "output_type": "execute_result"
    },
    {
     "data": {
      "image/png": "[encoded data removed]",
      "text/plain": [
       "<Figure size 360x360 with 1 Axes>"
      ]
     },
     "metadata": {
      "needs_background": "light"
     },
     "output_type": "display_data"
    }
   ],
   "source": [
    "g = sns.catplot(x=\"Activity\", kind=\"count\", palette=\"ch:.5\", data=train)\n",
    "g.set_xticklabels(rotation=30)"
   ]
  },
  {
   "cell_type": "markdown",
   "metadata": {},
   "source": [
    "### As we can't visualize more than 3 dim, we need some way to see the relations between each of these features.\n",
    "### Pairplot is a great way to visualize higher dimention feature relation.\n",
    "### But as we have 563 features, we can't possibly use pairplot because then we would have to generate\n",
    "### 563C2 = 158203 number of total plots.\n",
    "#### But, we can visualize the relation between acceration 3-dir data and gyroscope 3-dir data"
   ]
  },
  {
   "cell_type": "code",
   "execution_count": null,
   "metadata": {},
   "outputs": [],
   "source": []
  },
  {
   "cell_type": "markdown",
   "metadata": {},
   "source": [
    "# Feature Selection and Feature Engineering."
   ]
  },
  {
   "cell_type": "markdown",
   "metadata": {},
   "source": [
    "####  We're using PCA in the pipeline and all data will be normalized using StandardScaler."
   ]
  },
  {
   "cell_type": "code",
   "execution_count": 31,
   "metadata": {},
   "outputs": [],
   "source": [
    "from sklearn.svm import SVC\n",
    "from sklearn.preprocessing import LabelEncoder\n",
    "from sklearn.metrics import confusion_matrix,classification_report\n",
    "from sklearn.model_selection import cross_val_score, GridSearchCV"
   ]
  },
  {
   "cell_type": "code",
   "execution_count": 32,
   "metadata": {
    "scrolled": true
   },
   "outputs": [
    {
     "name": "stdout",
     "output_type": "stream",
     "text": [
      "Dimension X_Train :  (7352, 561)\n",
      "Dimension X_Test (2947, 561) \n",
      "\n"
     ]
    }
   ],
   "source": [
    "# Creating the train and test set from the dataframe.\n",
    "\n",
    "X_train = pd.DataFrame(train.drop(['Activity','subject'],axis=1))\n",
    "Y_train = train.Activity.values.astype(object)\n",
    "\n",
    "X_test = pd.DataFrame(test.drop(['Activity','subject'],axis=1))\n",
    "Y_test = test.Activity.values.astype(object)\n",
    "\n",
    "# Printing the dimension of Train and Test set \n",
    "print(\"Dimension X_Train : \",X_train.shape)\n",
    "print(\"Dimension X_Test\",X_test.shape,\"\\n\")"
   ]
  },
  {
   "cell_type": "markdown",
   "metadata": {},
   "source": [
    "# Building pipeline of different classifiers"
   ]
  },
  {
   "cell_type": "code",
   "execution_count": 33,
   "metadata": {},
   "outputs": [],
   "source": [
    "from sklearn.pipeline import Pipeline\n",
    "from sklearn.decomposition import PCA\n",
    "\n",
    "\n",
    "from sklearn.linear_model import RidgeClassifierCV\n",
    "from sklearn.neighbors import KNeighborsClassifier\n",
    "from sklearn.svm import SVC\n",
    "from sklearn.linear_model import SGDClassifier\n",
    "from sklearn.tree import DecisionTreeClassifier\n",
    "from sklearn.ensemble import RandomForestClassifier\n",
    "from xgboost import XGBClassifier\n",
    "from sklearn.linear_model import LogisticRegression\n",
    "from sklearn.model_selection import cross_validate\n",
    "\n",
    "from sklearn.metrics import confusion_matrix\n",
    "import seaborn as sns\n"
   ]
  },
  {
   "cell_type": "code",
   "execution_count": 34,
   "metadata": {},
   "outputs": [],
   "source": [
    "encoder = LabelEncoder()\n",
    "\n",
    "# encoding train labels \n",
    "encoder.fit(Y_train)\n",
    "Y_train = encoder.transform(Y_train)\n",
    "\n",
    "# encoding test labels \n",
    "encoder.fit(Y_test)\n",
    "Y_test = encoder.transform(Y_test)"
   ]
  },
  {
   "cell_type": "markdown",
   "metadata": {},
   "source": [
    "### Pipelines"
   ]
  },
  {
   "cell_type": "code",
   "execution_count": 35,
   "metadata": {},
   "outputs": [],
   "source": [
    "pipe_lr = Pipeline([('scalar1',StandardScaler()),\n",
    "                     ('pca1',PCA(n_components=250)),\n",
    "                     ('lr_classifier',LogisticRegression(random_state=42))])"
   ]
  },
  {
   "cell_type": "code",
   "execution_count": 36,
   "metadata": {},
   "outputs": [],
   "source": [
    "pipe_SGD = Pipeline([('scaler3',StandardScaler()),\n",
    "                    ('pca6',PCA(n_components = 250)),\n",
    "                    ('sgd', SGDClassifier(penalty='elasticnet',\n",
    "                                  alpha=0.00001,\n",
    "                                  max_iter=10000,\n",
    "                                  tol=0.001))])"
   ]
  },
  {
   "cell_type": "code",
   "execution_count": 37,
   "metadata": {},
   "outputs": [],
   "source": [
    "pipe_XG = Pipeline([ ('pca3', PCA(n_components = 250)),\n",
    "                     ('xg_classifier', XGBClassifier())])"
   ]
  },
  {
   "cell_type": "code",
   "execution_count": 38,
   "metadata": {},
   "outputs": [],
   "source": [
    "pipe_DT = Pipeline([ ('pca4', PCA(n_components = 250)),\n",
    "                     ('dt_classifier', DecisionTreeClassifier())])"
   ]
  },
  {
   "cell_type": "code",
   "execution_count": null,
   "metadata": {},
   "outputs": [],
   "source": []
  },
  {
   "cell_type": "code",
   "execution_count": 39,
   "metadata": {},
   "outputs": [],
   "source": [
    "pipe_RCV = Pipeline([('scaler2', StandardScaler()),\n",
    "                     ('pca5', PCA(n_components = 250)),\n",
    "                     ('knn_classifier', RidgeClassifierCV(cv=10))])"
   ]
  },
  {
   "cell_type": "code",
   "execution_count": 40,
   "metadata": {},
   "outputs": [],
   "source": [
    "# list of pipelines\n",
    "pipelines = [pipe_lr,pipe_SGD,pipe_XG, pipe_DT,pipe_RCV]"
   ]
  },
  {
   "cell_type": "markdown",
   "metadata": {},
   "source": [
    "# Training Pipeline"
   ]
  },
  {
   "cell_type": "code",
   "execution_count": 21,
   "metadata": {},
   "outputs": [],
   "source": [
    "best_accuracy = 0\n",
    "best_algorithm = 0\n",
    "best_pipeline = \"\""
   ]
  },
  {
   "cell_type": "code",
   "execution_count": 22,
   "metadata": {},
   "outputs": [],
   "source": [
    "# Fit the pipelines\n",
    "for pipe in pipelines:\n",
    "    pipe.fit(X_train, Y_train)\n"
   ]
  },
  {
   "cell_type": "markdown",
   "metadata": {},
   "source": [
    "# Scaling the values"
   ]
  },
  {
   "cell_type": "code",
   "execution_count": 23,
   "metadata": {},
   "outputs": [],
   "source": [
    "\n",
    "scaler = StandardScaler()\n",
    "X_train_scaled = scaler.fit_transform(X_train)\n",
    "X_test_scaled = scaler.transform(X_test)"
   ]
  },
  {
   "cell_type": "markdown",
   "metadata": {},
   "source": [
    "# Results and analysis"
   ]
  },
  {
   "cell_type": "markdown",
   "metadata": {},
   "source": [
    "## Logistic Regression"
   ]
  },
  {
   "cell_type": "code",
   "execution_count": 24,
   "metadata": {},
   "outputs": [
    {
     "name": "stdout",
     "output_type": "stream",
     "text": [
      "              precision    recall  f1-score   support\n",
      "\n",
      "           0       0.87      0.99      0.93       537\n",
      "           1       0.81      0.83      0.82       491\n",
      "           2       0.98      0.31      0.47       532\n",
      "           3       0.69      0.88      0.77       496\n",
      "           4       0.85      0.95      0.90       420\n",
      "           5       0.78      0.93      0.84       471\n",
      "\n",
      "    accuracy                           0.81      2947\n",
      "   macro avg       0.83      0.81      0.79      2947\n",
      "weighted avg       0.83      0.81      0.78      2947\n",
      "\n",
      "Training set score for Logistic Regression: 0.831610\n",
      "Testing  set score for Logistic Regression: 0.806583\n"
     ]
    },
    {
     "data": {
      "text/plain": [
       "<function sklearn.pipeline.Pipeline.score(self, X, y=None, sample_weight=None)>"
      ]
     },
     "execution_count": 24,
     "metadata": {},
     "output_type": "execute_result"
    },
    {
     "data": {
      "image/png": "[encoded data removed]",
      "text/plain": [
       "<Figure size 432x288 with 2 Axes>"
      ]
     },
     "metadata": {
      "needs_background": "light"
     },
     "output_type": "display_data"
    }
   ],
   "source": [
    "\n",
    "Y_pred_lr = pipe_lr.predict(X_test_scaled)\n",
    "\n",
    "cf_matrix = confusion_matrix(Y_test,Y_pred_lr)\n",
    "fig = sns.heatmap(cf_matrix, annot=True, fmt='g', cmap=\"YlGnBu\")\n",
    "fig.set_title(\"Confusion Matrix for Logistic Regression\")\n",
    "plt.xlabel(\"Actual Label\")\n",
    "plt.ylabel(\"Predicted Label\")\n",
    "print(classification_report(Y_test,Y_pred_lr))\n",
    "\n",
    "print(\"Training set score for Logistic Regression: %f\" % pipe_lr.score(X_train_scaled , Y_train))\n",
    "print(\"Testing  set score for Logistic Regression: %f\" % pipe_lr.score(X_test_scaled  , Y_test ))\n",
    "\n",
    "\n",
    "pipe_lr.score\n"
   ]
  },
  {
   "cell_type": "markdown",
   "metadata": {},
   "source": [
    "# Stochastic Gradient Descent"
   ]
  },
  {
   "cell_type": "code",
   "execution_count": 25,
   "metadata": {},
   "outputs": [
    {
     "name": "stdout",
     "output_type": "stream",
     "text": [
      "              precision    recall  f1-score   support\n",
      "\n",
      "           0       0.38      1.00      0.55       537\n",
      "           1       0.00      0.00      0.00       491\n",
      "           2       0.00      0.00      0.00       532\n",
      "           3       0.88      0.73      0.79       496\n",
      "           4       0.58      1.00      0.73       420\n",
      "           5       0.83      0.72      0.77       471\n",
      "\n",
      "    accuracy                           0.56      2947\n",
      "   macro avg       0.45      0.57      0.47      2947\n",
      "weighted avg       0.43      0.56      0.46      2947\n",
      "\n",
      "Training set score for SGD: 0.551279\n",
      "Testing  set score for SGD: 0.560909\n"
     ]
    },
    {
     "data": {
      "text/plain": [
       "<function sklearn.pipeline.Pipeline.score(self, X, y=None, sample_weight=None)>"
      ]
     },
     "execution_count": 25,
     "metadata": {},
     "output_type": "execute_result"
    },
    {
     "data": {
      "image/png": "[encoded data removed]",
      "text/plain": [
       "<Figure size 432x288 with 2 Axes>"
      ]
     },
     "metadata": {
      "needs_background": "light"
     },
     "output_type": "display_data"
    }
   ],
   "source": [
    "\n",
    "Y_pred_sgd = pipe_SGD.predict(X_test_scaled)\n",
    "\n",
    "cf_matrix = confusion_matrix(Y_test,Y_pred_sgd)\n",
    "fig = sns.heatmap(cf_matrix, annot=True, fmt='g', cmap=\"YlGnBu\")\n",
    "fig.set_title(\"Confusion Matrix for Stocastic Gradient Descent\")\n",
    "plt.xlabel(\"Actual Label\")\n",
    "plt.ylabel(\"Predicted Label\")\n",
    "print(classification_report(Y_test,Y_pred_sgd))\n",
    "\n",
    "print(\"Training set score for SGD: %f\" % pipe_SGD.score(X_train_scaled , Y_train))\n",
    "print(\"Testing  set score for SGD: %f\" % pipe_SGD.score(X_test_scaled  , Y_test ))\n",
    "\n",
    "\n",
    "pipe_SGD.score\n"
   ]
  },
  {
   "cell_type": "markdown",
   "metadata": {},
   "source": [
    "# XGBoost"
   ]
  },
  {
   "cell_type": "code",
   "execution_count": 26,
   "metadata": {},
   "outputs": [
    {
     "name": "stdout",
     "output_type": "stream",
     "text": [
      "              precision    recall  f1-score   support\n",
      "\n",
      "           0       0.86      0.99      0.92       537\n",
      "           1       0.75      0.72      0.73       491\n",
      "           2       0.87      0.67      0.76       532\n",
      "           3       0.76      0.55      0.64       496\n",
      "           4       0.42      0.98      0.59       420\n",
      "           5       0.84      0.21      0.34       471\n",
      "\n",
      "    accuracy                           0.69      2947\n",
      "   macro avg       0.75      0.69      0.66      2947\n",
      "weighted avg       0.76      0.69      0.67      2947\n",
      "\n",
      "Training set score for XGBoost: 0.732182\n",
      "Testing  set score for XGBoost: 0.687139\n"
     ]
    },
    {
     "data": {
      "text/plain": [
       "<function sklearn.pipeline.Pipeline.score(self, X, y=None, sample_weight=None)>"
      ]
     },
     "execution_count": 26,
     "metadata": {},
     "output_type": "execute_result"
    },
    {
     "data": {
      "image/png": "[encoded data removed]",
      "text/plain": [
       "<Figure size 432x288 with 2 Axes>"
      ]
     },
     "metadata": {
      "needs_background": "light"
     },
     "output_type": "display_data"
    }
   ],
   "source": [
    "\n",
    "Y_pred_xg = pipe_XG.predict(X_test_scaled)\n",
    "\n",
    "cf_matrix = confusion_matrix(Y_test,Y_pred_xg)\n",
    "fig = sns.heatmap(cf_matrix, annot=True, fmt='g', cmap=\"YlGnBu\")\n",
    "fig.set_title(\"Confusion Matrix for XGBoost Classifier\")\n",
    "plt.xlabel(\"Actual Label\")\n",
    "plt.ylabel(\"Predicted Label\")\n",
    "print(classification_report(Y_test,Y_pred_xg))\n",
    "\n",
    "print(\"Training set score for XGBoost: %f\" % pipe_XG.score(X_train_scaled , Y_train))\n",
    "print(\"Testing  set score for XGBoost: %f\" % pipe_XG.score(X_test_scaled  , Y_test ))\n",
    "\n",
    "\n",
    "pipe_XG.score"
   ]
  },
  {
   "cell_type": "markdown",
   "metadata": {},
   "source": [
    "# Decision Tree "
   ]
  },
  {
   "cell_type": "code",
   "execution_count": 27,
   "metadata": {},
   "outputs": [
    {
     "name": "stdout",
     "output_type": "stream",
     "text": [
      "              precision    recall  f1-score   support\n",
      "\n",
      "           0       0.54      0.22      0.31       537\n",
      "           1       0.27      0.48      0.34       491\n",
      "           2       0.51      0.34      0.41       532\n",
      "           3       0.29      0.03      0.05       496\n",
      "           4       0.22      0.21      0.22       420\n",
      "           5       0.33      0.73      0.46       471\n",
      "\n",
      "    accuracy                           0.33      2947\n",
      "   macro avg       0.36      0.33      0.30      2947\n",
      "weighted avg       0.37      0.33      0.30      2947\n",
      "\n",
      "Training set score for Decision Tree: 0.345620\n",
      "Testing  set score for Decision Tree: 0.332542\n"
     ]
    },
    {
     "data": {
      "text/plain": [
       "<function sklearn.pipeline.Pipeline.score(self, X, y=None, sample_weight=None)>"
      ]
     },
     "execution_count": 27,
     "metadata": {},
     "output_type": "execute_result"
    },
    {
     "data": {
      "image/png": "[encoded data removed]",
      "text/plain": [
       "<Figure size 432x288 with 2 Axes>"
      ]
     },
     "metadata": {
      "needs_background": "light"
     },
     "output_type": "display_data"
    }
   ],
   "source": [
    "\n",
    "Y_pred_dt = pipe_DT.predict(X_test_scaled)\n",
    "\n",
    "cf_matrix = confusion_matrix(Y_test,Y_pred_dt)\n",
    "fig = sns.heatmap(cf_matrix, annot=True, fmt='g', cmap=\"YlGnBu\")\n",
    "fig.set_title(\"Confusion Matrix for Decision Tree Classifier\")\n",
    "plt.xlabel(\"Actual Label\")\n",
    "plt.ylabel(\"Predicted Label\")\n",
    "print(classification_report(Y_test,Y_pred_dt))\n",
    "\n",
    "print(\"Training set score for Decision Tree: %f\" % pipe_DT.score(X_train_scaled , Y_train))\n",
    "print(\"Testing  set score for Decision Tree: %f\" % pipe_DT.score(X_test_scaled  , Y_test ))\n",
    "\n",
    "\n",
    "pipe_DT.score"
   ]
  },
  {
   "cell_type": "markdown",
   "metadata": {},
   "source": [
    "# Support Vector Classification with Gridsearch optimization"
   ]
  },
  {
   "cell_type": "code",
   "execution_count": 42,
   "metadata": {},
   "outputs": [
    {
     "data": {
      "text/plain": [
       "GridSearchCV(cv=10, estimator=SVC(), n_jobs=-1,\n",
       "             param_grid=[{'C': [500], 'gamma': [0.001], 'kernel': ['rbf']}],\n",
       "             scoring='accuracy')"
      ]
     },
     "execution_count": 42,
     "metadata": {},
     "output_type": "execute_result"
    }
   ],
   "source": [
    "# Create the parameter grid based on the results of random search \n",
    "\n",
    "parameters = [{'C': [500], 'kernel': ['rbf'], 'gamma': [0.001]}]\n",
    "\n",
    "# SVM MODEL with gridsearch \n",
    "# n_jobs -1 means use all cpu cores\n",
    "# cv = 10 means 10 fold cross validation\n",
    "\n",
    "\n",
    "model_SVM = GridSearchCV(SVC(), \n",
    "                         parameters, \n",
    "                         scoring='accuracy',\n",
    "                         cv=10,\n",
    "                        n_jobs=-1)\n",
    "\n",
    "model_SVM.fit(X_train_scaled, Y_train)"
   ]
  },
  {
   "cell_type": "code",
   "execution_count": 43,
   "metadata": {},
   "outputs": [
    {
     "name": "stdout",
     "output_type": "stream",
     "text": [
      "              precision    recall  f1-score   support\n",
      "\n",
      "           0       0.99      1.00      1.00       537\n",
      "           1       0.98      0.89      0.93       491\n",
      "           2       0.92      0.98      0.95       532\n",
      "           3       0.96      0.98      0.97       496\n",
      "           4       0.98      0.93      0.95       420\n",
      "           5       0.93      0.96      0.95       471\n",
      "\n",
      "    accuracy                           0.96      2947\n",
      "   macro avg       0.96      0.96      0.96      2947\n",
      "weighted avg       0.96      0.96      0.96      2947\n",
      "\n",
      "Training set score for Decision Tree: 1.000000\n",
      "Testing  set score for Decision Tree: 0.958941\n"
     ]
    },
    {
     "data": {
      "text/plain": [
       "<bound method BaseSearchCV.score of GridSearchCV(cv=10, estimator=SVC(), n_jobs=-1,\n",
       "             param_grid=[{'C': [500], 'gamma': [0.001], 'kernel': ['rbf']}],\n",
       "             scoring='accuracy')>"
      ]
     },
     "execution_count": 43,
     "metadata": {},
     "output_type": "execute_result"
    },
    {
     "data": {
      "image/png": "[encoded data removed]",
      "text/plain": [
       "<Figure size 432x288 with 2 Axes>"
      ]
     },
     "metadata": {
      "needs_background": "light"
     },
     "output_type": "display_data"
    }
   ],
   "source": [
    "\n",
    "Y_pred_svc = model_SVM.predict(X_test_scaled)\n",
    "\n",
    "cf_matrix = confusion_matrix(Y_test,Y_pred_svc)\n",
    "fig = sns.heatmap(cf_matrix, annot=True, fmt='g', cmap=\"YlGnBu\")\n",
    "fig.set_title(\"Confusion Matrix for SVC\")\n",
    "plt.xlabel(\"Actual Label\")\n",
    "plt.ylabel(\"Predicted Label\")\n",
    "print(classification_report(Y_test,Y_pred_svc))\n",
    "\n",
    "print(\"Training set score for Decision Tree: %f\" % model_SVM.score(X_train_scaled , Y_train))\n",
    "print(\"Testing  set score for Decision Tree: %f\" % model_SVM.score(X_test_scaled  , Y_test ))\n",
    "\n",
    "\n",
    "model_SVM.score"
   ]
  },
  {
   "cell_type": "markdown",
   "metadata": {},
   "source": [
    "# Ridge Classifier CV"
   ]
  },
  {
   "cell_type": "code",
   "execution_count": 29,
   "metadata": {},
   "outputs": [
    {
     "name": "stdout",
     "output_type": "stream",
     "text": [
      "              precision    recall  f1-score   support\n",
      "\n",
      "           0       1.00      0.93      0.96       537\n",
      "           1       0.60      0.81      0.69       491\n",
      "           2       0.68      0.94      0.79       532\n",
      "           3       0.92      0.74      0.82       496\n",
      "           4       0.97      0.77      0.86       420\n",
      "           5       0.94      0.61      0.74       471\n",
      "\n",
      "    accuracy                           0.80      2947\n",
      "   macro avg       0.85      0.80      0.81      2947\n",
      "weighted avg       0.84      0.80      0.81      2947\n",
      "\n",
      "Training set score for Ridge CV: 0.838819\n",
      "Testing  set score for Ridge CV: 0.804886\n"
     ]
    },
    {
     "data": {
      "text/plain": [
       "<function sklearn.pipeline.Pipeline.score(self, X, y=None, sample_weight=None)>"
      ]
     },
     "execution_count": 29,
     "metadata": {},
     "output_type": "execute_result"
    },
    {
     "data": {
      "image/png": "[encoded data removed]",
      "text/plain": [
       "<Figure size 432x288 with 2 Axes>"
      ]
     },
     "metadata": {
      "needs_background": "light"
     },
     "output_type": "display_data"
    }
   ],
   "source": [
    "\n",
    "Y_pred_rcv = pipe_RCV.predict(X_test_scaled)\n",
    "\n",
    "cf_matrix = confusion_matrix(Y_test,Y_pred_rcv)\n",
    "fig = sns.heatmap(cf_matrix, annot=True, fmt='g', cmap=\"YlGnBu\")\n",
    "fig.set_title(\"Confusion Matrix RCV\")\n",
    "plt.xlabel(\"Actual Label\")\n",
    "plt.ylabel(\"Predicted Label\")\n",
    "print(classification_report(Y_test,Y_pred_rcv))\n",
    "\n",
    "print(\"Training set score for Ridge CV: %f\" % pipe_RCV.score(X_train_scaled , Y_train))\n",
    "print(\"Testing  set score for Ridge CV: %f\" % pipe_RCV.score(X_test_scaled  , Y_test ))\n",
    "\n",
    "\n",
    "pipe_RCV.score"
   ]
  }
 ],
 "metadata": {
  "kernelspec": {
   "display_name": "Python 3",
   "language": "python",
   "name": "python3"
  },
  "language_info": {
   "codemirror_mode": {
    "name": "ipython",
    "version": 3
   },
   "file_extension": ".py",
   "mimetype": "text/x-python",
   "name": "python",
   "nbconvert_exporter": "python",
   "pygments_lexer": "ipython3",
   "version": "3.7.1"
  }
 },
 "nbformat": 4,
 "nbformat_minor": 4
}
