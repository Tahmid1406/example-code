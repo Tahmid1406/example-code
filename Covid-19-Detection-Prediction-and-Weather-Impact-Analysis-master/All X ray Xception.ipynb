{
 "cells": [
  {
   "cell_type": "code",
   "execution_count": 1,
   "metadata": {},
   "outputs": [
    {
     "name": "stderr",
     "output_type": "stream",
     "text": [
      "Using TensorFlow backend.\n"
     ]
    }
   ],
   "source": [
    "from keras import models\n",
    "from keras import layers\n",
    "from keras.applications import Xception\n",
    "from keras import optimizers\n",
    "from keras.layers.core import Flatten, Dense, Dropout, Lambda\n",
    "import tensorflow as tf\n",
    "\n",
    "DATASET_PATH = './ALL X Ray/train'\n",
    "test_dir = './ALL X Ray/test'\n",
    "\n",
    "IMAGE_SIZE = (150, 150)\n",
    "NUM_CLASSES = 3\n",
    "BATCH_SIZE = 10 \n",
    "NUM_EPOCHS = 20\n",
    "LEARNING_RATE =0.0005 "
   ]
  },
  {
   "cell_type": "code",
   "execution_count": 2,
   "metadata": {},
   "outputs": [
    {
     "name": "stderr",
     "output_type": "stream",
     "text": [
      "C:\\Users\\ASUS\\Anaconda3\\envs\\tensorflow\\lib\\site-packages\\keras_preprocessing\\image\\image_data_generator.py:341: UserWarning: This ImageDataGenerator specifies `zca_whitening` which overrides setting of`featurewise_std_normalization`.\n",
      "  warnings.warn('This ImageDataGenerator specifies '\n"
     ]
    },
    {
     "name": "stdout",
     "output_type": "stream",
     "text": [
      "Found 474 images belonging to 3 classes.\n",
      "Found 117 images belonging to 3 classes.\n"
     ]
    }
   ],
   "source": [
    "from keras.preprocessing.image import ImageDataGenerator\n",
    "\n",
    "#Train datagen here is a preprocessor\n",
    "train_datagen = ImageDataGenerator(rescale=1./255,\n",
    " rotation_range=50,\n",
    " featurewise_center = True,\n",
    " featurewise_std_normalization = True,\n",
    " width_shift_range=0.2,\n",
    " height_shift_range=0.2,\n",
    " shear_range=0.25,\n",
    " zoom_range=0.1,\n",
    " zca_whitening = True,\n",
    " channel_shift_range = 20,\n",
    " horizontal_flip = True ,\n",
    " vertical_flip = True ,\n",
    " validation_split = 0.2,\n",
    " fill_mode=\"constant\")\n",
    "\n",
    "\n",
    "train_batches = train_datagen.flow_from_directory(DATASET_PATH,\n",
    " target_size=IMAGE_SIZE,\n",
    " shuffle=True,\n",
    " batch_size=BATCH_SIZE,\n",
    " subset = \"training\",\n",
    " seed=42,\n",
    " class_mode=\"categorical\",\n",
    " \n",
    " )\n",
    "\n",
    "\n",
    "valid_batches = train_datagen.flow_from_directory(DATASET_PATH,\n",
    " target_size=IMAGE_SIZE,\n",
    " shuffle=True,\n",
    " batch_size=BATCH_SIZE,\n",
    " subset = \"validation\",\n",
    " seed=42,\n",
    " class_mode=\"categorical\",\n",
    " \n",
    " \n",
    " )"
   ]
  },
  {
   "cell_type": "code",
   "execution_count": 3,
   "metadata": {},
   "outputs": [
    {
     "name": "stdout",
     "output_type": "stream",
     "text": [
      "WARNING:tensorflow:From C:\\Users\\ASUS\\Anaconda3\\envs\\tensorflow\\lib\\site-packages\\keras\\backend\\tensorflow_backend.py:74: The name tf.get_default_graph is deprecated. Please use tf.compat.v1.get_default_graph instead.\n",
      "\n",
      "WARNING:tensorflow:From C:\\Users\\ASUS\\Anaconda3\\envs\\tensorflow\\lib\\site-packages\\keras\\backend\\tensorflow_backend.py:517: The name tf.placeholder is deprecated. Please use tf.compat.v1.placeholder instead.\n",
      "\n",
      "WARNING:tensorflow:From C:\\Users\\ASUS\\Anaconda3\\envs\\tensorflow\\lib\\site-packages\\keras\\backend\\tensorflow_backend.py:4138: The name tf.random_uniform is deprecated. Please use tf.random.uniform instead.\n",
      "\n",
      "WARNING:tensorflow:From C:\\Users\\ASUS\\Anaconda3\\envs\\tensorflow\\lib\\site-packages\\keras\\backend\\tensorflow_backend.py:174: The name tf.get_default_session is deprecated. Please use tf.compat.v1.get_default_session instead.\n",
      "\n",
      "WARNING:tensorflow:From C:\\Users\\ASUS\\Anaconda3\\envs\\tensorflow\\lib\\site-packages\\keras\\backend\\tensorflow_backend.py:181: The name tf.ConfigProto is deprecated. Please use tf.compat.v1.ConfigProto instead.\n",
      "\n",
      "WARNING:tensorflow:From C:\\Users\\ASUS\\Anaconda3\\envs\\tensorflow\\lib\\site-packages\\keras\\backend\\tensorflow_backend.py:186: The name tf.Session is deprecated. Please use tf.compat.v1.Session instead.\n",
      "\n",
      "WARNING:tensorflow:From C:\\Users\\ASUS\\Anaconda3\\envs\\tensorflow\\lib\\site-packages\\keras\\backend\\tensorflow_backend.py:190: The name tf.global_variables is deprecated. Please use tf.compat.v1.global_variables instead.\n",
      "\n",
      "WARNING:tensorflow:From C:\\Users\\ASUS\\Anaconda3\\envs\\tensorflow\\lib\\site-packages\\keras\\backend\\tensorflow_backend.py:199: The name tf.is_variable_initialized is deprecated. Please use tf.compat.v1.is_variable_initialized instead.\n",
      "\n",
      "WARNING:tensorflow:From C:\\Users\\ASUS\\Anaconda3\\envs\\tensorflow\\lib\\site-packages\\keras\\backend\\tensorflow_backend.py:206: The name tf.variables_initializer is deprecated. Please use tf.compat.v1.variables_initializer instead.\n",
      "\n",
      "WARNING:tensorflow:From C:\\Users\\ASUS\\Anaconda3\\envs\\tensorflow\\lib\\site-packages\\keras\\backend\\tensorflow_backend.py:1834: The name tf.nn.fused_batch_norm is deprecated. Please use tf.compat.v1.nn.fused_batch_norm instead.\n",
      "\n",
      "WARNING:tensorflow:From C:\\Users\\ASUS\\Anaconda3\\envs\\tensorflow\\lib\\site-packages\\keras\\backend\\tensorflow_backend.py:133: The name tf.placeholder_with_default is deprecated. Please use tf.compat.v1.placeholder_with_default instead.\n",
      "\n",
      "WARNING:tensorflow:From C:\\Users\\ASUS\\Anaconda3\\envs\\tensorflow\\lib\\site-packages\\keras\\backend\\tensorflow_backend.py:3976: The name tf.nn.max_pool is deprecated. Please use tf.nn.max_pool2d instead.\n",
      "\n",
      "Found 474 images belonging to 3 classes.\n",
      "Found 117 images belonging to 3 classes.\n",
      "WARNING:tensorflow:From C:\\Users\\ASUS\\Anaconda3\\envs\\tensorflow\\lib\\site-packages\\keras\\optimizers.py:790: The name tf.train.Optimizer is deprecated. Please use tf.compat.v1.train.Optimizer instead.\n",
      "\n",
      "WARNING:tensorflow:From C:\\Users\\ASUS\\Anaconda3\\envs\\tensorflow\\lib\\site-packages\\keras\\backend\\tensorflow_backend.py:3295: The name tf.log is deprecated. Please use tf.math.log instead.\n",
      "\n"
     ]
    }
   ],
   "source": [
    "conv_base = Xception(weights='imagenet',\n",
    " include_top=False,\n",
    " input_shape=(150, 150, 3))\n",
    "conv_base.trainable = False\n",
    "from keras.preprocessing.image import ImageDataGenerator\n",
    "\n",
    "#Train datagen here is a preprocessor\n",
    "train_datagen = ImageDataGenerator(rescale=1./255,\n",
    " rotation_range=50,\n",
    " featurewise_center = True,\n",
    " featurewise_std_normalization = True,\n",
    " width_shift_range=0.2,\n",
    " height_shift_range=0.2,\n",
    " shear_range=0.25,\n",
    " zoom_range=0.1,\n",
    " zca_whitening = True,\n",
    " channel_shift_range = 20,\n",
    " horizontal_flip = True ,\n",
    " vertical_flip = True ,\n",
    " validation_split = 0.2,\n",
    " fill_mode=\"constant\")\n",
    "\n",
    "\n",
    "train_batches = train_datagen.flow_from_directory(DATASET_PATH,\n",
    " target_size=IMAGE_SIZE,\n",
    " shuffle=True,\n",
    " batch_size=BATCH_SIZE,\n",
    " subset = \"training\",\n",
    " seed=42,\n",
    " class_mode=\"categorical\",\n",
    " \n",
    " )\n",
    "\n",
    "\n",
    "valid_batches = train_datagen.flow_from_directory(DATASET_PATH,\n",
    " target_size=IMAGE_SIZE,\n",
    " shuffle=True,\n",
    " batch_size=BATCH_SIZE,\n",
    " subset = \"validation\",\n",
    " seed=42,\n",
    " class_mode=\"categorical\",\n",
    " \n",
    " \n",
    " )\n",
    "\n",
    "model = models.Sequential()\n",
    "model.add(conv_base)\n",
    "model.add(layers.Flatten())\n",
    "model.add(layers.Dense(512, activation='relu'))\n",
    "model.add(layers.Dense(256, activation='relu'))\n",
    "model.add(layers.Dense(128, activation='relu'))\n",
    "model.add(layers.Dense(64, activation='relu'))\n",
    "model.add(layers.Dense(3, activation='softmax'))\n",
    "model.compile(loss='categorical_crossentropy',\n",
    " \n",
    "optimizer=optimizers.Adam(lr=LEARNING_RATE),\n",
    "metrics=['acc'])\n",
    "model.save('CovidXception.model')"
   ]
  },
  {
   "cell_type": "code",
   "execution_count": 4,
   "metadata": {},
   "outputs": [
    {
     "name": "stdout",
     "output_type": "stream",
     "text": [
      "WARNING:tensorflow:From C:\\Users\\ASUS\\Anaconda3\\envs\\tensorflow\\lib\\site-packages\\tensorflow_core\\python\\ops\\math_grad.py:1424: where (from tensorflow.python.ops.array_ops) is deprecated and will be removed in a future version.\n",
      "Instructions for updating:\n",
      "Use tf.where in 2.0, which has the same broadcast rule as np.where\n",
      "WARNING:tensorflow:From C:\\Users\\ASUS\\Anaconda3\\envs\\tensorflow\\lib\\site-packages\\keras\\backend\\tensorflow_backend.py:986: The name tf.assign_add is deprecated. Please use tf.compat.v1.assign_add instead.\n",
      "\n",
      "WARNING:tensorflow:From C:\\Users\\ASUS\\Anaconda3\\envs\\tensorflow\\lib\\site-packages\\keras\\backend\\tensorflow_backend.py:973: The name tf.assign is deprecated. Please use tf.compat.v1.assign instead.\n",
      "\n",
      "Epoch 1/20\n"
     ]
    },
    {
     "name": "stderr",
     "output_type": "stream",
     "text": [
      "C:\\Users\\ASUS\\Anaconda3\\envs\\tensorflow\\lib\\site-packages\\keras_preprocessing\\image\\image_data_generator.py:716: UserWarning: This ImageDataGenerator specifies `featurewise_center`, but it hasn't been fit on any training data. Fit it first by calling `.fit(numpy_data)`.\n",
      "  warnings.warn('This ImageDataGenerator specifies '\n",
      "C:\\Users\\ASUS\\Anaconda3\\envs\\tensorflow\\lib\\site-packages\\keras_preprocessing\\image\\image_data_generator.py:735: UserWarning: This ImageDataGenerator specifies `zca_whitening`, but it hasn't been fit on any training data. Fit it first by calling `.fit(numpy_data)`.\n",
      "  warnings.warn('This ImageDataGenerator specifies '\n"
     ]
    },
    {
     "name": "stdout",
     "output_type": "stream",
     "text": [
      "47/47 [==============================] - 94s 2s/step - loss: 1.2319 - acc: 0.5489 - val_loss: 1.1267 - val_acc: 0.5364\n",
      "Epoch 2/20\n",
      "47/47 [==============================] - 119s 3s/step - loss: 0.8697 - acc: 0.6395 - val_loss: 4.2742 - val_acc: 0.3178\n",
      "Epoch 3/20\n",
      "47/47 [==============================] - 188s 4s/step - loss: 0.6878 - acc: 0.7394 - val_loss: 0.7785 - val_acc: 0.6822\n",
      "Epoch 4/20\n",
      "47/47 [==============================] - 197s 4s/step - loss: 0.6441 - acc: 0.7394 - val_loss: 2.7491 - val_acc: 0.4486\n",
      "Epoch 5/20\n",
      "47/47 [==============================] - 178s 4s/step - loss: 0.6641 - acc: 0.7724 - val_loss: 0.6720 - val_acc: 0.6916\n",
      "Epoch 6/20\n",
      "47/47 [==============================] - 219s 5s/step - loss: 0.5519 - acc: 0.8063 - val_loss: 0.5433 - val_acc: 0.7290\n",
      "Epoch 7/20\n",
      "47/47 [==============================] - 195s 4s/step - loss: 0.5847 - acc: 0.7713 - val_loss: 0.8869 - val_acc: 0.6729\n",
      "Epoch 8/20\n",
      "47/47 [==============================] - 201s 4s/step - loss: 0.5186 - acc: 0.7968 - val_loss: 0.8674 - val_acc: 0.6916\n",
      "Epoch 9/20\n",
      "47/47 [==============================] - 198s 4s/step - loss: 0.4840 - acc: 0.8191 - val_loss: 2.4385 - val_acc: 0.5047\n",
      "Epoch 10/20\n",
      "47/47 [==============================] - 173s 4s/step - loss: 0.5848 - acc: 0.7521 - val_loss: 0.7107 - val_acc: 0.7757\n",
      "Epoch 11/20\n",
      "47/47 [==============================] - 172s 4s/step - loss: 0.5318 - acc: 0.7968 - val_loss: 0.4350 - val_acc: 0.7944\n",
      "Epoch 12/20\n",
      "47/47 [==============================] - 143s 3s/step - loss: 0.6537 - acc: 0.7405 - val_loss: 0.6839 - val_acc: 0.7009\n",
      "Epoch 13/20\n",
      "47/47 [==============================] - 137s 3s/step - loss: 0.6795 - acc: 0.7510 - val_loss: 0.7613 - val_acc: 0.7455\n",
      "Epoch 14/20\n",
      "47/47 [==============================] - 146s 3s/step - loss: 0.5430 - acc: 0.7829 - val_loss: 0.5465 - val_acc: 0.7850\n",
      "Epoch 15/20\n",
      "47/47 [==============================] - 138s 3s/step - loss: 0.4808 - acc: 0.8148 - val_loss: 0.5925 - val_acc: 0.7850\n",
      "Epoch 16/20\n",
      "47/47 [==============================] - 136s 3s/step - loss: 0.4903 - acc: 0.7980 - val_loss: 0.5735 - val_acc: 0.7570\n",
      "Epoch 17/20\n",
      "47/47 [==============================] - 133s 3s/step - loss: 0.5035 - acc: 0.7989 - val_loss: 0.4504 - val_acc: 0.7850\n",
      "Epoch 18/20\n",
      "47/47 [==============================] - 131s 3s/step - loss: 0.4900 - acc: 0.8086 - val_loss: 0.9299 - val_acc: 0.6262\n",
      "Epoch 19/20\n",
      "47/47 [==============================] - 128s 3s/step - loss: 0.4360 - acc: 0.8192 - val_loss: 0.8534 - val_acc: 0.8131\n",
      "Epoch 20/20\n",
      "47/47 [==============================] - 130s 3s/step - loss: 0.3896 - acc: 0.8489 - val_loss: 0.8878 - val_acc: 0.7009\n"
     ]
    }
   ],
   "source": [
    "STEP_SIZE_TRAIN=train_batches.n//train_batches.batch_size\n",
    "STEP_SIZE_VALID=valid_batches.n//valid_batches.batch_size\n",
    "\n",
    "\n",
    "from keras.callbacks import CSVLogger\n",
    "\n",
    "csv_Xception = CSVLogger('trainingXception.log', separator=',', append=False)\n",
    "\n",
    "result=model.fit_generator(train_batches,\n",
    " steps_per_epoch =STEP_SIZE_TRAIN,\n",
    " validation_data = valid_batches,\n",
    " validation_steps = STEP_SIZE_VALID,\n",
    " epochs= NUM_EPOCHS,\n",
    " callbacks=[csv_Xception]\n",
    " )"
   ]
  },
  {
   "cell_type": "code",
   "execution_count": 5,
   "metadata": {},
   "outputs": [
    {
     "data": {
      "image/png": "[encoded data removed]",
      "text/plain": [
       "<Figure size 1080x360 with 2 Axes>"
      ]
     },
     "metadata": {
      "needs_background": "light"
     },
     "output_type": "display_data"
    }
   ],
   "source": [
    "import matplotlib.pyplot as plt\n",
    "import numpy as np\n",
    "\n",
    "\n",
    "acc = np.array(result.history['acc'])\n",
    "loss = np.array(result.history['loss'])\n",
    "val_acc = np.array(result.history['val_acc'])\n",
    "val_loss = np.array(result.history['val_loss'])\n",
    "plt.figure(figsize=(15, 5))\n",
    "plt.subplot(121)\n",
    "plt.plot(range(1,NUM_EPOCHS), acc[1:], label='Train_acc')\n",
    "plt.plot(range(1,NUM_EPOCHS), val_acc[1:], label='Test_acc')\n",
    "plt.title('Accuracy over '  + str(NUM_EPOCHS) + ' Epochs', size=15)\n",
    "plt.legend()\n",
    "plt.grid(True)\n",
    "plt.subplot(122)\n",
    "plt.plot(range(1,NUM_EPOCHS), loss[1:], label='Train_loss')\n",
    "plt.plot(range(1,NUM_EPOCHS), val_loss[1:], label='Test_loss')\n",
    "plt.title('Loss over ' + str(NUM_EPOCHS) + ' Epochs', size=15)\n",
    "plt.legend()\n",
    "plt.grid(True)\n",
    "plt.show()"
   ]
  },
  {
   "cell_type": "code",
   "execution_count": 6,
   "metadata": {},
   "outputs": [
    {
     "name": "stdout",
     "output_type": "stream",
     "text": [
      "WARNING:tensorflow:From C:\\Users\\ASUS\\Anaconda3\\envs\\tensorflow\\lib\\site-packages\\tensorflow_core\\python\\ops\\resource_variable_ops.py:1630: calling BaseResourceVariable.__init__ (from tensorflow.python.ops.resource_variable_ops) with constraint is deprecated and will be removed in a future version.\n",
      "Instructions for updating:\n",
      "If using Keras pass *_constraint arguments to layers.\n"
     ]
    },
    {
     "data": {
      "text/plain": [
       "1"
      ]
     },
     "execution_count": 6,
     "metadata": {},
     "output_type": "execute_result"
    }
   ],
   "source": [
    "import cv2\n",
    "\n",
    "def prepare(filepath):\n",
    "    IMG_SIZE = 150\n",
    "    img_array = cv2.imread(filepath, cv2.IMREAD_COLOR)\n",
    "    new_array = cv2.resize(img_array, (IMG_SIZE,IMG_SIZE))\n",
    "    return new_array.reshape(-1,IMG_SIZE, IMG_SIZE,3)\n",
    "    \n",
    "\n",
    "model = tf.keras.models.load_model(\"CovidVG-16.model\")\n",
    "\n",
    "prediction = model.predict_classes([prepare('p.jpeg')])\n",
    "\n",
    "fin = int(prediction)\n",
    "fin\n",
    "\n",
    "#Prediction 0 means covid"
   ]
  },
  {
   "cell_type": "code",
   "execution_count": null,
   "metadata": {},
   "outputs": [],
   "source": []
  },
  {
   "cell_type": "code",
   "execution_count": null,
   "metadata": {},
   "outputs": [],
   "source": []
  }
 ],
 "metadata": {
  "kernelspec": {
   "display_name": "Python 3",
   "language": "python",
   "name": "python3"
  },
  "language_info": {
   "codemirror_mode": {
    "name": "ipython",
    "version": 3
   },
   "file_extension": ".py",
   "mimetype": "text/x-python",
   "name": "python",
   "nbconvert_exporter": "python",
   "pygments_lexer": "ipython3",
   "version": "3.7.6"
  }
 },
 "nbformat": 4,
 "nbformat_minor": 4
}
