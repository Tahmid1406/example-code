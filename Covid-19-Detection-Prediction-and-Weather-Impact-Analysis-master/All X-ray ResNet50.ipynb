{
 "cells": [
  {
   "cell_type": "code",
   "execution_count": 1,
   "metadata": {},
   "outputs": [
    {
     "name": "stderr",
     "output_type": "stream",
     "text": [
      "Using TensorFlow backend.\n"
     ]
    }
   ],
   "source": [
    "from keras import models\n",
    "from keras import layers\n",
    "from keras.applications import Xception\n",
    "from keras import optimizers\n",
    "from keras.layers.core import Flatten, Dense, Dropout, Lambda\n",
    "import tensorflow as tf\n",
    "\n",
    "DATASET_PATH = './ALL X Ray/train'\n",
    "test_dir = './ALL X Ray/test'\n",
    "\n",
    "IMAGE_SIZE = (150, 150)\n",
    "NUM_CLASSES = 3\n",
    "BATCH_SIZE = 10 \n",
    "NUM_EPOCHS = 20\n",
    "LEARNING_RATE =0.0005 "
   ]
  },
  {
   "cell_type": "code",
   "execution_count": 2,
   "metadata": {},
   "outputs": [
    {
     "name": "stderr",
     "output_type": "stream",
     "text": [
      "C:\\Users\\ASUS\\Anaconda3\\envs\\tensorflow\\lib\\site-packages\\keras_preprocessing\\image\\image_data_generator.py:341: UserWarning: This ImageDataGenerator specifies `zca_whitening` which overrides setting of`featurewise_std_normalization`.\n",
      "  warnings.warn('This ImageDataGenerator specifies '\n"
     ]
    },
    {
     "name": "stdout",
     "output_type": "stream",
     "text": [
      "Found 474 images belonging to 3 classes.\n",
      "Found 117 images belonging to 3 classes.\n"
     ]
    }
   ],
   "source": [
    "from keras.preprocessing.image import ImageDataGenerator\n",
    "\n",
    "#Train datagen here is a preprocessor\n",
    "train_datagen = ImageDataGenerator(rescale=1./255,\n",
    " rotation_range=50,\n",
    " featurewise_center = True,\n",
    " featurewise_std_normalization = True,\n",
    " width_shift_range=0.2,\n",
    " height_shift_range=0.2,\n",
    " shear_range=0.25,\n",
    " zoom_range=0.1,\n",
    " zca_whitening = True,\n",
    " channel_shift_range = 20,\n",
    " horizontal_flip = True ,\n",
    " vertical_flip = True ,\n",
    " validation_split = 0.2,\n",
    " fill_mode=\"constant\")\n",
    "\n",
    "\n",
    "train_batches = train_datagen.flow_from_directory(DATASET_PATH,\n",
    " target_size=IMAGE_SIZE,\n",
    " shuffle=True,\n",
    " batch_size=BATCH_SIZE,\n",
    " subset = \"training\",\n",
    " seed=42,\n",
    " class_mode=\"categorical\",\n",
    " \n",
    " )\n",
    "\n",
    "\n",
    "valid_batches = train_datagen.flow_from_directory(DATASET_PATH,\n",
    " target_size=IMAGE_SIZE,\n",
    " shuffle=True,\n",
    " batch_size=BATCH_SIZE,\n",
    " subset = \"validation\",\n",
    " seed=42,\n",
    " class_mode=\"categorical\",\n",
    " \n",
    " \n",
    " )"
   ]
  },
  {
   "cell_type": "code",
   "execution_count": 3,
   "metadata": {},
   "outputs": [
    {
     "name": "stdout",
     "output_type": "stream",
     "text": [
      "WARNING:tensorflow:From C:\\Users\\ASUS\\Anaconda3\\envs\\tensorflow\\lib\\site-packages\\keras\\backend\\tensorflow_backend.py:74: The name tf.get_default_graph is deprecated. Please use tf.compat.v1.get_default_graph instead.\n",
      "\n",
      "WARNING:tensorflow:From C:\\Users\\ASUS\\Anaconda3\\envs\\tensorflow\\lib\\site-packages\\keras\\backend\\tensorflow_backend.py:517: The name tf.placeholder is deprecated. Please use tf.compat.v1.placeholder instead.\n",
      "\n",
      "WARNING:tensorflow:From C:\\Users\\ASUS\\Anaconda3\\envs\\tensorflow\\lib\\site-packages\\keras\\backend\\tensorflow_backend.py:4185: The name tf.truncated_normal is deprecated. Please use tf.random.truncated_normal instead.\n",
      "\n",
      "WARNING:tensorflow:From C:\\Users\\ASUS\\Anaconda3\\envs\\tensorflow\\lib\\site-packages\\keras\\backend\\tensorflow_backend.py:174: The name tf.get_default_session is deprecated. Please use tf.compat.v1.get_default_session instead.\n",
      "\n",
      "WARNING:tensorflow:From C:\\Users\\ASUS\\Anaconda3\\envs\\tensorflow\\lib\\site-packages\\keras\\backend\\tensorflow_backend.py:181: The name tf.ConfigProto is deprecated. Please use tf.compat.v1.ConfigProto instead.\n",
      "\n",
      "WARNING:tensorflow:From C:\\Users\\ASUS\\Anaconda3\\envs\\tensorflow\\lib\\site-packages\\keras\\backend\\tensorflow_backend.py:186: The name tf.Session is deprecated. Please use tf.compat.v1.Session instead.\n",
      "\n",
      "WARNING:tensorflow:From C:\\Users\\ASUS\\Anaconda3\\envs\\tensorflow\\lib\\site-packages\\keras\\backend\\tensorflow_backend.py:190: The name tf.global_variables is deprecated. Please use tf.compat.v1.global_variables instead.\n",
      "\n",
      "WARNING:tensorflow:From C:\\Users\\ASUS\\Anaconda3\\envs\\tensorflow\\lib\\site-packages\\keras\\backend\\tensorflow_backend.py:199: The name tf.is_variable_initialized is deprecated. Please use tf.compat.v1.is_variable_initialized instead.\n",
      "\n",
      "WARNING:tensorflow:From C:\\Users\\ASUS\\Anaconda3\\envs\\tensorflow\\lib\\site-packages\\keras\\backend\\tensorflow_backend.py:206: The name tf.variables_initializer is deprecated. Please use tf.compat.v1.variables_initializer instead.\n",
      "\n",
      "WARNING:tensorflow:From C:\\Users\\ASUS\\Anaconda3\\envs\\tensorflow\\lib\\site-packages\\keras\\backend\\tensorflow_backend.py:1834: The name tf.nn.fused_batch_norm is deprecated. Please use tf.compat.v1.nn.fused_batch_norm instead.\n",
      "\n",
      "WARNING:tensorflow:From C:\\Users\\ASUS\\Anaconda3\\envs\\tensorflow\\lib\\site-packages\\keras\\backend\\tensorflow_backend.py:133: The name tf.placeholder_with_default is deprecated. Please use tf.compat.v1.placeholder_with_default instead.\n",
      "\n",
      "WARNING:tensorflow:From C:\\Users\\ASUS\\Anaconda3\\envs\\tensorflow\\lib\\site-packages\\keras\\backend\\tensorflow_backend.py:3976: The name tf.nn.max_pool is deprecated. Please use tf.nn.max_pool2d instead.\n",
      "\n"
     ]
    },
    {
     "name": "stderr",
     "output_type": "stream",
     "text": [
      "C:\\Users\\ASUS\\Anaconda3\\envs\\tensorflow\\lib\\site-packages\\keras_applications\\resnet50.py:265: UserWarning: The output shape of `ResNet50(include_top=False)` has been changed since Keras 2.2.0.\n",
      "  warnings.warn('The output shape of `ResNet50(include_top=False)` '\n"
     ]
    },
    {
     "name": "stdout",
     "output_type": "stream",
     "text": [
      "WARNING:tensorflow:From C:\\Users\\ASUS\\Anaconda3\\envs\\tensorflow\\lib\\site-packages\\keras\\backend\\tensorflow_backend.py:4138: The name tf.random_uniform is deprecated. Please use tf.random.uniform instead.\n",
      "\n",
      "WARNING:tensorflow:From C:\\Users\\ASUS\\Anaconda3\\envs\\tensorflow\\lib\\site-packages\\keras\\optimizers.py:790: The name tf.train.Optimizer is deprecated. Please use tf.compat.v1.train.Optimizer instead.\n",
      "\n",
      "WARNING:tensorflow:From C:\\Users\\ASUS\\Anaconda3\\envs\\tensorflow\\lib\\site-packages\\keras\\backend\\tensorflow_backend.py:3295: The name tf.log is deprecated. Please use tf.math.log instead.\n",
      "\n"
     ]
    }
   ],
   "source": [
    "from keras.applications.resnet50 import ResNet50\n",
    "from keras.models import Model\n",
    "import keras\n",
    "\n",
    "conv_base = ResNet50(weights='imagenet',\n",
    " include_top=False,\n",
    " input_shape=(150, 150, 3))\n",
    "conv_base.trainable = False\n",
    "\n",
    "model = models.Sequential()\n",
    "model.add(conv_base)\n",
    "model.add(layers.Flatten())\n",
    "model.add(layers.Dense(512, activation='relu'))\n",
    "model.add(layers.Dense(256, activation='relu'))\n",
    "model.add(layers.Dense(128, activation='relu'))\n",
    "model.add(layers.Dense(64, activation='relu'))\n",
    "model.add(layers.Dense(3, activation='softmax'))\n",
    "model.compile(loss='categorical_crossentropy',\n",
    " \n",
    "optimizer=optimizers.Adam(lr=LEARNING_RATE),\n",
    "metrics=['acc'])\n",
    "model.save('CovidRes50.model')"
   ]
  },
  {
   "cell_type": "code",
   "execution_count": 4,
   "metadata": {},
   "outputs": [
    {
     "name": "stdout",
     "output_type": "stream",
     "text": [
      "WARNING:tensorflow:From C:\\Users\\ASUS\\Anaconda3\\envs\\tensorflow\\lib\\site-packages\\tensorflow_core\\python\\ops\\math_grad.py:1424: where (from tensorflow.python.ops.array_ops) is deprecated and will be removed in a future version.\n",
      "Instructions for updating:\n",
      "Use tf.where in 2.0, which has the same broadcast rule as np.where\n",
      "WARNING:tensorflow:From C:\\Users\\ASUS\\Anaconda3\\envs\\tensorflow\\lib\\site-packages\\keras\\backend\\tensorflow_backend.py:986: The name tf.assign_add is deprecated. Please use tf.compat.v1.assign_add instead.\n",
      "\n",
      "WARNING:tensorflow:From C:\\Users\\ASUS\\Anaconda3\\envs\\tensorflow\\lib\\site-packages\\keras\\backend\\tensorflow_backend.py:973: The name tf.assign is deprecated. Please use tf.compat.v1.assign instead.\n",
      "\n",
      "Epoch 1/20\n"
     ]
    },
    {
     "name": "stderr",
     "output_type": "stream",
     "text": [
      "C:\\Users\\ASUS\\Anaconda3\\envs\\tensorflow\\lib\\site-packages\\keras_preprocessing\\image\\image_data_generator.py:716: UserWarning: This ImageDataGenerator specifies `featurewise_center`, but it hasn't been fit on any training data. Fit it first by calling `.fit(numpy_data)`.\n",
      "  warnings.warn('This ImageDataGenerator specifies '\n",
      "C:\\Users\\ASUS\\Anaconda3\\envs\\tensorflow\\lib\\site-packages\\keras_preprocessing\\image\\image_data_generator.py:735: UserWarning: This ImageDataGenerator specifies `zca_whitening`, but it hasn't been fit on any training data. Fit it first by calling `.fit(numpy_data)`.\n",
      "  warnings.warn('This ImageDataGenerator specifies '\n"
     ]
    },
    {
     "name": "stdout",
     "output_type": "stream",
     "text": [
      "47/47 [==============================] - 218s 5s/step - loss: 1.2819 - acc: 0.6340 - val_loss: 1.2493 - val_acc: 0.3273\n",
      "Epoch 2/20\n",
      "47/47 [==============================] - 204s 4s/step - loss: 0.5964 - acc: 0.8032 - val_loss: 1.3799 - val_acc: 0.2710\n",
      "Epoch 3/20\n",
      "47/47 [==============================] - 199s 4s/step - loss: 0.4316 - acc: 0.8522 - val_loss: 1.1962 - val_acc: 0.3458\n",
      "Epoch 4/20\n",
      "47/47 [==============================] - 213s 5s/step - loss: 0.4631 - acc: 0.8446 - val_loss: 1.2751 - val_acc: 0.3364\n",
      "Epoch 5/20\n",
      "47/47 [==============================] - 199s 4s/step - loss: 0.3989 - acc: 0.8607 - val_loss: 1.4314 - val_acc: 0.2897\n",
      "Epoch 6/20\n",
      "47/47 [==============================] - 214s 5s/step - loss: 0.3290 - acc: 0.8893 - val_loss: 1.4645 - val_acc: 0.3551\n",
      "Epoch 7/20\n",
      "47/47 [==============================] - 181s 4s/step - loss: 0.3662 - acc: 0.8851 - val_loss: 1.6101 - val_acc: 0.2991\n",
      "Epoch 8/20\n",
      "47/47 [==============================] - 175s 4s/step - loss: 0.2954 - acc: 0.8957 - val_loss: 1.5276 - val_acc: 0.2991\n",
      "Epoch 9/20\n",
      "47/47 [==============================] - 147s 3s/step - loss: 0.1928 - acc: 0.9468 - val_loss: 1.6719 - val_acc: 0.3458\n",
      "Epoch 10/20\n",
      "47/47 [==============================] - 149s 3s/step - loss: 0.2931 - acc: 0.9085 - val_loss: 1.4407 - val_acc: 0.2991\n",
      "Epoch 11/20\n",
      "47/47 [==============================] - 136s 3s/step - loss: 0.2484 - acc: 0.9085 - val_loss: 1.5728 - val_acc: 0.3271\n",
      "Epoch 12/20\n",
      "47/47 [==============================] - 141s 3s/step - loss: 0.3007 - acc: 0.8905 - val_loss: 1.4778 - val_acc: 0.3084\n",
      "Epoch 13/20\n",
      "47/47 [==============================] - 127s 3s/step - loss: 0.3157 - acc: 0.8915 - val_loss: 1.3770 - val_acc: 0.3182\n",
      "Epoch 14/20\n",
      "47/47 [==============================] - 134s 3s/step - loss: 0.2700 - acc: 0.8990 - val_loss: 1.5593 - val_acc: 0.3084\n",
      "Epoch 15/20\n",
      "47/47 [==============================] - 121s 3s/step - loss: 0.2270 - acc: 0.9181 - val_loss: 1.3592 - val_acc: 0.3551\n",
      "Epoch 16/20\n",
      "47/47 [==============================] - 127s 3s/step - loss: 0.3078 - acc: 0.9011 - val_loss: 1.5105 - val_acc: 0.2523\n",
      "Epoch 17/20\n",
      "47/47 [==============================] - 130s 3s/step - loss: 0.2477 - acc: 0.9096 - val_loss: 1.7567 - val_acc: 0.3178\n",
      "Epoch 18/20\n",
      "47/47 [==============================] - 118s 3s/step - loss: 0.1951 - acc: 0.9160 - val_loss: 1.6589 - val_acc: 0.3364\n",
      "Epoch 19/20\n",
      "47/47 [==============================] - 103s 2s/step - loss: 0.2029 - acc: 0.9309 - val_loss: 1.6751 - val_acc: 0.3551\n",
      "Epoch 20/20\n",
      "47/47 [==============================] - 91s 2s/step - loss: 0.1865 - acc: 0.9404 - val_loss: 1.6878 - val_acc: 0.3178\n"
     ]
    }
   ],
   "source": [
    "STEP_SIZE_TRAIN=train_batches.n//train_batches.batch_size\n",
    "STEP_SIZE_VALID=valid_batches.n//valid_batches.batch_size\n",
    "\n",
    "\n",
    "from keras.callbacks import CSVLogger\n",
    "\n",
    "csv_resnet50 = CSVLogger('trainingResnet50.log', separator=',', append=False)\n",
    "\n",
    "\n",
    "result=model.fit_generator(train_batches,\n",
    " steps_per_epoch =STEP_SIZE_TRAIN,\n",
    " validation_data = valid_batches,\n",
    " validation_steps = STEP_SIZE_VALID,\n",
    " epochs= NUM_EPOCHS,\n",
    " callbacks=[csv_resnet50]\n",
    " )"
   ]
  },
  {
   "cell_type": "code",
   "execution_count": 5,
   "metadata": {},
   "outputs": [
    {
     "data": {
      "image/png": "[encoded data removed]",
      "text/plain": [
       "<Figure size 1080x360 with 2 Axes>"
      ]
     },
     "metadata": {
      "needs_background": "light"
     },
     "output_type": "display_data"
    }
   ],
   "source": [
    "import matplotlib.pyplot as plt\n",
    "import numpy as np\n",
    "\n",
    "\n",
    "acc = np.array(result.history['acc'])\n",
    "loss = np.array(result.history['loss'])\n",
    "val_acc = np.array(result.history['val_acc'])\n",
    "val_loss = np.array(result.history['val_loss'])\n",
    "plt.figure(figsize=(15, 5))\n",
    "plt.subplot(121)\n",
    "plt.plot(range(1,NUM_EPOCHS), acc[1:], label='Train_acc')\n",
    "plt.plot(range(1,NUM_EPOCHS), val_acc[1:], label='Test_acc')\n",
    "plt.title('Accuracy over '  + str(NUM_EPOCHS) + ' Epochs', size=15)\n",
    "plt.legend()\n",
    "plt.grid(True)\n",
    "plt.subplot(122)\n",
    "plt.plot(range(1,NUM_EPOCHS), loss[1:], label='Train_loss')\n",
    "plt.plot(range(1,NUM_EPOCHS), val_loss[1:], label='Test_loss')\n",
    "plt.title('Loss over ' + str(NUM_EPOCHS) + ' Epochs', size=15)\n",
    "plt.legend()\n",
    "plt.grid(True)\n",
    "plt.show()"
   ]
  },
  {
   "cell_type": "code",
   "execution_count": null,
   "metadata": {},
   "outputs": [],
   "source": []
  }
 ],
 "metadata": {
  "kernelspec": {
   "display_name": "Python 3",
   "language": "python",
   "name": "python3"
  },
  "language_info": {
   "codemirror_mode": {
    "name": "ipython",
    "version": 3
   },
   "file_extension": ".py",
   "mimetype": "text/x-python",
   "name": "python",
   "nbconvert_exporter": "python",
   "pygments_lexer": "ipython3",
   "version": "3.7.6"
  }
 },
 "nbformat": 4,
 "nbformat_minor": 4
}
