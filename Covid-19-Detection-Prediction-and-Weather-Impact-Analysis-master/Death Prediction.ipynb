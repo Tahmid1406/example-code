{
 "cells": [
  {
   "cell_type": "code",
   "execution_count": 1,
   "metadata": {},
   "outputs": [],
   "source": [
    "from __future__ import absolute_import, division, print_function, unicode_literals\n",
    "\n",
    "import numpy as np\n",
    "import pandas as pd\n",
    "import matplotlib.pyplot as plt\n",
    "from IPython.display import clear_output\n",
    "from six.moves import urllib\n",
    "\n",
    "import tensorflow.compat.v2.feature_column as fc\n",
    "\n",
    "import tensorflow as tf"
   ]
  },
  {
   "cell_type": "code",
   "execution_count": 2,
   "metadata": {},
   "outputs": [
    {
     "data": {
      "text/html": [
       "<div>\n",
       "<style scoped>\n",
       "    .dataframe tbody tr th:only-of-type {\n",
       "        vertical-align: middle;\n",
       "    }\n",
       "\n",
       "    .dataframe tbody tr th {\n",
       "        vertical-align: top;\n",
       "    }\n",
       "\n",
       "    .dataframe thead th {\n",
       "        text-align: right;\n",
       "    }\n",
       "</style>\n",
       "<table border=\"1\" class=\"dataframe\">\n",
       "  <thead>\n",
       "    <tr style=\"text-align: right;\">\n",
       "      <th></th>\n",
       "      <th>location</th>\n",
       "      <th>country</th>\n",
       "      <th>gender</th>\n",
       "      <th>age</th>\n",
       "    </tr>\n",
       "  </thead>\n",
       "  <tbody>\n",
       "    <tr>\n",
       "      <th>0</th>\n",
       "      <td>Haneda</td>\n",
       "      <td>Japan</td>\n",
       "      <td>female</td>\n",
       "      <td>25</td>\n",
       "    </tr>\n",
       "    <tr>\n",
       "      <th>1</th>\n",
       "      <td>Nagoya City</td>\n",
       "      <td>Japan</td>\n",
       "      <td>female</td>\n",
       "      <td>25</td>\n",
       "    </tr>\n",
       "    <tr>\n",
       "      <th>2</th>\n",
       "      <td>Kumamoto City</td>\n",
       "      <td>Japan</td>\n",
       "      <td>female</td>\n",
       "      <td>25</td>\n",
       "    </tr>\n",
       "    <tr>\n",
       "      <th>3</th>\n",
       "      <td>Hokkaido</td>\n",
       "      <td>Japan</td>\n",
       "      <td>female</td>\n",
       "      <td>25</td>\n",
       "    </tr>\n",
       "    <tr>\n",
       "      <th>4</th>\n",
       "      <td>Hokkaido</td>\n",
       "      <td>Japan</td>\n",
       "      <td>female</td>\n",
       "      <td>25</td>\n",
       "    </tr>\n",
       "    <tr>\n",
       "      <th>...</th>\n",
       "      <td>...</td>\n",
       "      <td>...</td>\n",
       "      <td>...</td>\n",
       "      <td>...</td>\n",
       "    </tr>\n",
       "    <tr>\n",
       "      <th>824</th>\n",
       "      <td>South Korea</td>\n",
       "      <td>South Korea</td>\n",
       "      <td>male</td>\n",
       "      <td>24</td>\n",
       "    </tr>\n",
       "    <tr>\n",
       "      <th>825</th>\n",
       "      <td>South Korea</td>\n",
       "      <td>South Korea</td>\n",
       "      <td>male</td>\n",
       "      <td>24</td>\n",
       "    </tr>\n",
       "    <tr>\n",
       "      <th>826</th>\n",
       "      <td>Wan Chai</td>\n",
       "      <td>Hong Kong</td>\n",
       "      <td>male</td>\n",
       "      <td>24</td>\n",
       "    </tr>\n",
       "    <tr>\n",
       "      <th>827</th>\n",
       "      <td>Hong Kong</td>\n",
       "      <td>Hong Kong</td>\n",
       "      <td>male</td>\n",
       "      <td>24</td>\n",
       "    </tr>\n",
       "    <tr>\n",
       "      <th>828</th>\n",
       "      <td>Kyoto</td>\n",
       "      <td>Japan</td>\n",
       "      <td>female</td>\n",
       "      <td>25</td>\n",
       "    </tr>\n",
       "  </tbody>\n",
       "</table>\n",
       "<p>829 rows × 4 columns</p>\n",
       "</div>"
      ],
      "text/plain": [
       "          location      country  gender  age\n",
       "0           Haneda        Japan  female   25\n",
       "1      Nagoya City        Japan  female   25\n",
       "2    Kumamoto City        Japan  female   25\n",
       "3         Hokkaido        Japan  female   25\n",
       "4         Hokkaido        Japan  female   25\n",
       "..             ...          ...     ...  ...\n",
       "824    South Korea  South Korea    male   24\n",
       "825    South Korea  South Korea    male   24\n",
       "826       Wan Chai    Hong Kong    male   24\n",
       "827      Hong Kong    Hong Kong    male   24\n",
       "828          Kyoto        Japan  female   25\n",
       "\n",
       "[829 rows x 4 columns]"
      ]
     },
     "execution_count": 2,
     "metadata": {},
     "output_type": "execute_result"
    }
   ],
   "source": [
    "# Load dataset.\n",
    "X_train = pd.read_csv('./csvs/train.csv') # training data\n",
    "y_train = X_train.pop('death')\n",
    "\n",
    "X_train"
   ]
  },
  {
   "cell_type": "code",
   "execution_count": 3,
   "metadata": {},
   "outputs": [
    {
     "data": {
      "text/html": [
       "<div>\n",
       "<style scoped>\n",
       "    .dataframe tbody tr th:only-of-type {\n",
       "        vertical-align: middle;\n",
       "    }\n",
       "\n",
       "    .dataframe tbody tr th {\n",
       "        vertical-align: top;\n",
       "    }\n",
       "\n",
       "    .dataframe thead th {\n",
       "        text-align: right;\n",
       "    }\n",
       "</style>\n",
       "<table border=\"1\" class=\"dataframe\">\n",
       "  <thead>\n",
       "    <tr style=\"text-align: right;\">\n",
       "      <th></th>\n",
       "      <th>location</th>\n",
       "      <th>country</th>\n",
       "      <th>gender</th>\n",
       "    </tr>\n",
       "  </thead>\n",
       "  <tbody>\n",
       "    <tr>\n",
       "      <th>0</th>\n",
       "      <td>Haneda</td>\n",
       "      <td>Japan</td>\n",
       "      <td>female</td>\n",
       "    </tr>\n",
       "    <tr>\n",
       "      <th>1</th>\n",
       "      <td>Nagoya City</td>\n",
       "      <td>Japan</td>\n",
       "      <td>female</td>\n",
       "    </tr>\n",
       "    <tr>\n",
       "      <th>2</th>\n",
       "      <td>Kumamoto City</td>\n",
       "      <td>Japan</td>\n",
       "      <td>female</td>\n",
       "    </tr>\n",
       "    <tr>\n",
       "      <th>3</th>\n",
       "      <td>Hokkaido</td>\n",
       "      <td>Japan</td>\n",
       "      <td>female</td>\n",
       "    </tr>\n",
       "    <tr>\n",
       "      <th>4</th>\n",
       "      <td>Hokkaido</td>\n",
       "      <td>Japan</td>\n",
       "      <td>female</td>\n",
       "    </tr>\n",
       "    <tr>\n",
       "      <th>...</th>\n",
       "      <td>...</td>\n",
       "      <td>...</td>\n",
       "      <td>...</td>\n",
       "    </tr>\n",
       "    <tr>\n",
       "      <th>824</th>\n",
       "      <td>South Korea</td>\n",
       "      <td>South Korea</td>\n",
       "      <td>male</td>\n",
       "    </tr>\n",
       "    <tr>\n",
       "      <th>825</th>\n",
       "      <td>South Korea</td>\n",
       "      <td>South Korea</td>\n",
       "      <td>male</td>\n",
       "    </tr>\n",
       "    <tr>\n",
       "      <th>826</th>\n",
       "      <td>Wan Chai</td>\n",
       "      <td>Hong Kong</td>\n",
       "      <td>male</td>\n",
       "    </tr>\n",
       "    <tr>\n",
       "      <th>827</th>\n",
       "      <td>Hong Kong</td>\n",
       "      <td>Hong Kong</td>\n",
       "      <td>male</td>\n",
       "    </tr>\n",
       "    <tr>\n",
       "      <th>828</th>\n",
       "      <td>Kyoto</td>\n",
       "      <td>Japan</td>\n",
       "      <td>female</td>\n",
       "    </tr>\n",
       "  </tbody>\n",
       "</table>\n",
       "<p>829 rows × 3 columns</p>\n",
       "</div>"
      ],
      "text/plain": [
       "          location      country  gender\n",
       "0           Haneda        Japan  female\n",
       "1      Nagoya City        Japan  female\n",
       "2    Kumamoto City        Japan  female\n",
       "3         Hokkaido        Japan  female\n",
       "4         Hokkaido        Japan  female\n",
       "..             ...          ...     ...\n",
       "824    South Korea  South Korea    male\n",
       "825    South Korea  South Korea    male\n",
       "826       Wan Chai    Hong Kong    male\n",
       "827      Hong Kong    Hong Kong    male\n",
       "828          Kyoto        Japan  female\n",
       "\n",
       "[829 rows x 3 columns]"
      ]
     },
     "execution_count": 3,
     "metadata": {},
     "output_type": "execute_result"
    }
   ],
   "source": [
    "X_train_cat = X_train.select_dtypes(include=['object']).copy()\n",
    "X_train_cat"
   ]
  },
  {
   "cell_type": "code",
   "execution_count": 4,
   "metadata": {},
   "outputs": [
    {
     "data": {
      "text/html": [
       "<div>\n",
       "<style scoped>\n",
       "    .dataframe tbody tr th:only-of-type {\n",
       "        vertical-align: middle;\n",
       "    }\n",
       "\n",
       "    .dataframe tbody tr th {\n",
       "        vertical-align: top;\n",
       "    }\n",
       "\n",
       "    .dataframe thead th {\n",
       "        text-align: right;\n",
       "    }\n",
       "</style>\n",
       "<table border=\"1\" class=\"dataframe\">\n",
       "  <thead>\n",
       "    <tr style=\"text-align: right;\">\n",
       "      <th></th>\n",
       "      <th>location</th>\n",
       "      <th>country</th>\n",
       "      <th>gender</th>\n",
       "    </tr>\n",
       "  </thead>\n",
       "  <tbody>\n",
       "    <tr>\n",
       "      <th>0</th>\n",
       "      <td>25</td>\n",
       "      <td>9</td>\n",
       "      <td>0</td>\n",
       "    </tr>\n",
       "    <tr>\n",
       "      <th>1</th>\n",
       "      <td>67</td>\n",
       "      <td>9</td>\n",
       "      <td>0</td>\n",
       "    </tr>\n",
       "    <tr>\n",
       "      <th>2</th>\n",
       "      <td>48</td>\n",
       "      <td>9</td>\n",
       "      <td>0</td>\n",
       "    </tr>\n",
       "    <tr>\n",
       "      <th>3</th>\n",
       "      <td>32</td>\n",
       "      <td>9</td>\n",
       "      <td>0</td>\n",
       "    </tr>\n",
       "    <tr>\n",
       "      <th>4</th>\n",
       "      <td>32</td>\n",
       "      <td>9</td>\n",
       "      <td>0</td>\n",
       "    </tr>\n",
       "    <tr>\n",
       "      <th>...</th>\n",
       "      <td>...</td>\n",
       "      <td>...</td>\n",
       "      <td>...</td>\n",
       "    </tr>\n",
       "    <tr>\n",
       "      <th>824</th>\n",
       "      <td>93</td>\n",
       "      <td>15</td>\n",
       "      <td>1</td>\n",
       "    </tr>\n",
       "    <tr>\n",
       "      <th>825</th>\n",
       "      <td>93</td>\n",
       "      <td>15</td>\n",
       "      <td>1</td>\n",
       "    </tr>\n",
       "    <tr>\n",
       "      <th>826</th>\n",
       "      <td>110</td>\n",
       "      <td>7</td>\n",
       "      <td>1</td>\n",
       "    </tr>\n",
       "    <tr>\n",
       "      <th>827</th>\n",
       "      <td>33</td>\n",
       "      <td>7</td>\n",
       "      <td>1</td>\n",
       "    </tr>\n",
       "    <tr>\n",
       "      <th>828</th>\n",
       "      <td>52</td>\n",
       "      <td>9</td>\n",
       "      <td>0</td>\n",
       "    </tr>\n",
       "  </tbody>\n",
       "</table>\n",
       "<p>829 rows × 3 columns</p>\n",
       "</div>"
      ],
      "text/plain": [
       "     location  country  gender\n",
       "0          25        9       0\n",
       "1          67        9       0\n",
       "2          48        9       0\n",
       "3          32        9       0\n",
       "4          32        9       0\n",
       "..        ...      ...     ...\n",
       "824        93       15       1\n",
       "825        93       15       1\n",
       "826       110        7       1\n",
       "827        33        7       1\n",
       "828        52        9       0\n",
       "\n",
       "[829 rows x 3 columns]"
      ]
     },
     "execution_count": 4,
     "metadata": {},
     "output_type": "execute_result"
    }
   ],
   "source": [
    "X_train_cat['gender'] = X_train_cat['gender'].astype('category')\n",
    "X_train_cat['country'] = X_train_cat['country'].astype('category')\n",
    "X_train_cat['location'] = X_train_cat['location'].astype('category')\n",
    "X_train_cat['gender'] = X_train_cat['gender'].cat.codes\n",
    "X_train_cat['country'] = X_train_cat['country'].cat.codes\n",
    "X_train_cat['location'] = X_train_cat['location'].cat.codes\n",
    "X_train_cat"
   ]
  },
  {
   "cell_type": "code",
   "execution_count": 5,
   "metadata": {},
   "outputs": [
    {
     "data": {
      "text/html": [
       "<div>\n",
       "<style scoped>\n",
       "    .dataframe tbody tr th:only-of-type {\n",
       "        vertical-align: middle;\n",
       "    }\n",
       "\n",
       "    .dataframe tbody tr th {\n",
       "        vertical-align: top;\n",
       "    }\n",
       "\n",
       "    .dataframe thead th {\n",
       "        text-align: right;\n",
       "    }\n",
       "</style>\n",
       "<table border=\"1\" class=\"dataframe\">\n",
       "  <thead>\n",
       "    <tr style=\"text-align: right;\">\n",
       "      <th></th>\n",
       "      <th>age</th>\n",
       "      <th>location</th>\n",
       "      <th>country</th>\n",
       "      <th>gender</th>\n",
       "    </tr>\n",
       "  </thead>\n",
       "  <tbody>\n",
       "    <tr>\n",
       "      <th>0</th>\n",
       "      <td>25</td>\n",
       "      <td>25</td>\n",
       "      <td>9</td>\n",
       "      <td>0</td>\n",
       "    </tr>\n",
       "    <tr>\n",
       "      <th>1</th>\n",
       "      <td>25</td>\n",
       "      <td>67</td>\n",
       "      <td>9</td>\n",
       "      <td>0</td>\n",
       "    </tr>\n",
       "    <tr>\n",
       "      <th>2</th>\n",
       "      <td>25</td>\n",
       "      <td>48</td>\n",
       "      <td>9</td>\n",
       "      <td>0</td>\n",
       "    </tr>\n",
       "    <tr>\n",
       "      <th>3</th>\n",
       "      <td>25</td>\n",
       "      <td>32</td>\n",
       "      <td>9</td>\n",
       "      <td>0</td>\n",
       "    </tr>\n",
       "    <tr>\n",
       "      <th>4</th>\n",
       "      <td>25</td>\n",
       "      <td>32</td>\n",
       "      <td>9</td>\n",
       "      <td>0</td>\n",
       "    </tr>\n",
       "    <tr>\n",
       "      <th>...</th>\n",
       "      <td>...</td>\n",
       "      <td>...</td>\n",
       "      <td>...</td>\n",
       "      <td>...</td>\n",
       "    </tr>\n",
       "    <tr>\n",
       "      <th>824</th>\n",
       "      <td>24</td>\n",
       "      <td>93</td>\n",
       "      <td>15</td>\n",
       "      <td>1</td>\n",
       "    </tr>\n",
       "    <tr>\n",
       "      <th>825</th>\n",
       "      <td>24</td>\n",
       "      <td>93</td>\n",
       "      <td>15</td>\n",
       "      <td>1</td>\n",
       "    </tr>\n",
       "    <tr>\n",
       "      <th>826</th>\n",
       "      <td>24</td>\n",
       "      <td>110</td>\n",
       "      <td>7</td>\n",
       "      <td>1</td>\n",
       "    </tr>\n",
       "    <tr>\n",
       "      <th>827</th>\n",
       "      <td>24</td>\n",
       "      <td>33</td>\n",
       "      <td>7</td>\n",
       "      <td>1</td>\n",
       "    </tr>\n",
       "    <tr>\n",
       "      <th>828</th>\n",
       "      <td>25</td>\n",
       "      <td>52</td>\n",
       "      <td>9</td>\n",
       "      <td>0</td>\n",
       "    </tr>\n",
       "  </tbody>\n",
       "</table>\n",
       "<p>829 rows × 4 columns</p>\n",
       "</div>"
      ],
      "text/plain": [
       "     age  location  country  gender\n",
       "0     25        25        9       0\n",
       "1     25        67        9       0\n",
       "2     25        48        9       0\n",
       "3     25        32        9       0\n",
       "4     25        32        9       0\n",
       "..   ...       ...      ...     ...\n",
       "824   24        93       15       1\n",
       "825   24        93       15       1\n",
       "826   24       110        7       1\n",
       "827   24        33        7       1\n",
       "828   25        52        9       0\n",
       "\n",
       "[829 rows x 4 columns]"
      ]
     },
     "execution_count": 5,
     "metadata": {},
     "output_type": "execute_result"
    }
   ],
   "source": [
    "X_temp = X_train.drop(['location','country','gender'],axis='columns')\n",
    "result = pd.concat([X_temp, X_train_cat],axis=1)\n",
    "result"
   ]
  },
  {
   "cell_type": "code",
   "execution_count": 6,
   "metadata": {},
   "outputs": [],
   "source": [
    "from sklearn.ensemble import RandomForestRegressor\n",
    "from sklearn.metrics import roc_auc_score"
   ]
  },
  {
   "cell_type": "code",
   "execution_count": 7,
   "metadata": {},
   "outputs": [],
   "source": [
    "from sklearn.model_selection import train_test_split\n",
    "X_train, X_test, y_train, y_test = train_test_split(result, y_train, test_size=0.33, random_state=42)"
   ]
  },
  {
   "cell_type": "code",
   "execution_count": 8,
   "metadata": {},
   "outputs": [],
   "source": [
    "model = RandomForestRegressor(n_estimators=1000, oob_score=True, random_state=42)"
   ]
  },
  {
   "cell_type": "code",
   "execution_count": 9,
   "metadata": {},
   "outputs": [
    {
     "data": {
      "text/plain": [
       "RandomForestRegressor(bootstrap=True, ccp_alpha=0.0, criterion='mse',\n",
       "                      max_depth=None, max_features='auto', max_leaf_nodes=None,\n",
       "                      max_samples=None, min_impurity_decrease=0.0,\n",
       "                      min_impurity_split=None, min_samples_leaf=1,\n",
       "                      min_samples_split=2, min_weight_fraction_leaf=0.0,\n",
       "                      n_estimators=1000, n_jobs=None, oob_score=True,\n",
       "                      random_state=42, verbose=0, warm_start=False)"
      ]
     },
     "execution_count": 9,
     "metadata": {},
     "output_type": "execute_result"
    }
   ],
   "source": [
    "model.fit(X_train, y_train)"
   ]
  },
  {
   "cell_type": "code",
   "execution_count": 10,
   "metadata": {},
   "outputs": [
    {
     "data": {
      "text/plain": [
       "0.4676493576752281"
      ]
     },
     "execution_count": 10,
     "metadata": {},
     "output_type": "execute_result"
    }
   ],
   "source": [
    "model.oob_score_"
   ]
  },
  {
   "cell_type": "code",
   "execution_count": 11,
   "metadata": {},
   "outputs": [
    {
     "name": "stdout",
     "output_type": "stream",
     "text": [
      "0.8903005321924241\n"
     ]
    }
   ],
   "source": [
    "y_oob = model.oob_prediction_\n",
    "print(roc_auc_score(y_train,y_oob))"
   ]
  },
  {
   "cell_type": "code",
   "execution_count": 12,
   "metadata": {},
   "outputs": [
    {
     "data": {
      "text/plain": [
       "array([0.03425])"
      ]
     },
     "execution_count": 12,
     "metadata": {},
     "output_type": "execute_result"
    }
   ],
   "source": [
    "model.predict([[60,19,8,1]])"
   ]
  },
  {
   "cell_type": "code",
   "execution_count": 28,
   "metadata": {},
   "outputs": [
    {
     "name": "stdout",
     "output_type": "stream",
     "text": [
      "[0.19530331 0.63831184 0.13000882 0.03637603]\n"
     ]
    },
    {
     "data": {
      "image/png": "[encoded data removed]",
      "text/plain": [
       "<Figure size 432x288 with 1 Axes>"
      ]
     },
     "metadata": {
      "needs_background": "light"
     },
     "output_type": "display_data"
    }
   ],
   "source": [
    "print(model.feature_importances_)\n",
    "\n",
    "\n",
    "x1=['Gender','Age','Country','Location']\n",
    "y1=model.feature_importances_\n",
    "\n",
    "import matplotlib.pyplot as plt\n",
    "\n",
    "fig = plt.figure()\n",
    "ax = fig.add_axes([0,0,1,1])\n",
    "ax.bar(x1,y1)\n",
    "plt.title('Covid-19 Death Prediction')\n",
    "plt.xlabel('Factors')\n",
    "plt.ylabel('Percentage Impact')\n",
    "plt.show()"
   ]
  },
  {
   "cell_type": "code",
   "execution_count": 13,
   "metadata": {},
   "outputs": [
    {
     "data": {
      "text/plain": [
       "array([3.00000000e-03, 1.00000000e+00, 1.00000000e-03, 0.00000000e+00,\n",
       "       0.00000000e+00, 0.00000000e+00, 7.00000000e-03, 4.00000000e-03,\n",
       "       6.77416667e-01, 2.66666667e-03, 0.00000000e+00, 0.00000000e+00,\n",
       "       2.28000000e-01, 0.00000000e+00, 0.00000000e+00, 1.96666667e-02,\n",
       "       7.00000000e-03, 6.77416667e-01, 1.94767316e-02, 0.00000000e+00,\n",
       "       0.00000000e+00, 1.10000000e-02, 1.00000000e-03, 0.00000000e+00,\n",
       "       1.00000000e-03, 4.35000000e-03, 0.00000000e+00, 0.00000000e+00,\n",
       "       0.00000000e+00, 9.96000000e-01, 0.00000000e+00, 2.50000000e-04,\n",
       "       0.00000000e+00, 7.26190476e-04, 0.00000000e+00, 0.00000000e+00,\n",
       "       1.00000000e+00, 0.00000000e+00, 0.00000000e+00, 2.20000000e-02,\n",
       "       0.00000000e+00, 1.90000000e-02, 0.00000000e+00, 1.07000000e-01,\n",
       "       4.45421429e-01, 0.00000000e+00, 0.00000000e+00, 0.00000000e+00,\n",
       "       0.00000000e+00, 0.00000000e+00, 6.37000000e-01, 8.60000000e-02,\n",
       "       3.10000000e-02, 0.00000000e+00, 1.30000000e-02, 4.00000000e-03,\n",
       "       0.00000000e+00, 7.40000000e-02, 0.00000000e+00, 1.00000000e+00,\n",
       "       1.00000000e-03, 0.00000000e+00, 8.60000000e-02, 0.00000000e+00,\n",
       "       0.00000000e+00, 1.00000000e-03, 2.38416667e-01, 2.00000000e-02,\n",
       "       8.00000000e-03, 8.58833333e-02, 9.90000000e-01, 0.00000000e+00,\n",
       "       0.00000000e+00, 1.18000000e-01, 1.00000000e-03, 2.18090476e-01,\n",
       "       1.30000000e-02, 1.00000000e-03, 1.00000000e-03, 1.00000000e-03,\n",
       "       0.00000000e+00, 0.00000000e+00, 0.00000000e+00, 0.00000000e+00,\n",
       "       0.00000000e+00, 1.51000000e-02, 1.00000000e-03, 4.00000000e-03,\n",
       "       2.10000000e-02, 0.00000000e+00, 1.00000000e-03, 1.00000000e-03,\n",
       "       0.00000000e+00, 0.00000000e+00, 7.50000000e-04, 3.10000000e-02,\n",
       "       3.20000000e-02, 2.00000000e-03, 1.00000000e-03, 0.00000000e+00,\n",
       "       7.50000000e-02, 1.41000000e-01, 0.00000000e+00, 1.50000000e-02,\n",
       "       0.00000000e+00, 0.00000000e+00, 0.00000000e+00, 0.00000000e+00,\n",
       "       1.00000000e-02, 6.00000000e-03, 0.00000000e+00, 8.80000000e-02,\n",
       "       2.90000000e-02, 1.00000000e-03, 6.37000000e-01, 6.41666667e-03,\n",
       "       0.00000000e+00, 1.00000000e-03, 1.00000000e+00, 5.00000000e-03,\n",
       "       1.20000000e-02, 0.00000000e+00, 0.00000000e+00, 0.00000000e+00,\n",
       "       9.95000000e-01, 6.50000000e-02, 7.50000000e-04, 0.00000000e+00,\n",
       "       0.00000000e+00, 0.00000000e+00, 1.00000000e-03, 3.00000000e-03,\n",
       "       0.00000000e+00, 0.00000000e+00, 1.00000000e+00, 1.93333333e-02,\n",
       "       8.38333333e-02, 0.00000000e+00, 4.73333333e-03, 1.00000000e-03,\n",
       "       0.00000000e+00, 3.80000000e-02, 0.00000000e+00, 0.00000000e+00,\n",
       "       0.00000000e+00, 2.70000000e-02, 0.00000000e+00, 4.90000000e-02,\n",
       "       1.00000000e-03, 0.00000000e+00, 0.00000000e+00, 2.00000000e-03,\n",
       "       0.00000000e+00, 0.00000000e+00, 0.00000000e+00, 0.00000000e+00,\n",
       "       1.30000000e-02, 1.27333333e-02, 0.00000000e+00, 0.00000000e+00,\n",
       "       1.25666667e-02, 0.00000000e+00, 0.00000000e+00, 0.00000000e+00,\n",
       "       3.80000000e-02, 0.00000000e+00, 4.70000000e-02, 9.80000000e-02,\n",
       "       3.00000000e-03, 0.00000000e+00, 3.00000000e-03, 1.00000000e-03,\n",
       "       4.70000000e-02, 1.00000000e-03, 0.00000000e+00, 0.00000000e+00,\n",
       "       0.00000000e+00, 0.00000000e+00, 9.80000000e-02, 1.00000000e+00,\n",
       "       2.16000000e-01, 0.00000000e+00, 2.00000000e-03, 0.00000000e+00,\n",
       "       0.00000000e+00, 0.00000000e+00, 0.00000000e+00, 0.00000000e+00,\n",
       "       6.00000000e-03, 0.00000000e+00, 1.00000000e+00, 0.00000000e+00,\n",
       "       0.00000000e+00, 1.00000000e-03, 1.51047619e-02, 0.00000000e+00,\n",
       "       0.00000000e+00, 7.00000000e-03, 0.00000000e+00, 0.00000000e+00,\n",
       "       1.00000000e-03, 1.00000000e+00, 3.00000000e-03, 0.00000000e+00,\n",
       "       0.00000000e+00, 3.00000000e-03, 0.00000000e+00, 1.85160845e-01,\n",
       "       4.00000000e-03, 0.00000000e+00, 0.00000000e+00, 0.00000000e+00,\n",
       "       9.99000000e-01, 6.00000000e-03, 0.00000000e+00, 1.58000000e-01,\n",
       "       0.00000000e+00, 0.00000000e+00, 0.00000000e+00, 9.00000000e-03,\n",
       "       1.00000000e-03, 0.00000000e+00, 0.00000000e+00, 1.00000000e-03,\n",
       "       1.49000000e-01, 0.00000000e+00, 0.00000000e+00, 0.00000000e+00,\n",
       "       0.00000000e+00, 1.00000000e-03, 4.73333333e-03, 0.00000000e+00,\n",
       "       1.00000000e-03, 0.00000000e+00, 1.00000000e-03, 0.00000000e+00,\n",
       "       0.00000000e+00, 7.75000000e-02, 5.00000000e-03, 0.00000000e+00,\n",
       "       0.00000000e+00, 0.00000000e+00, 4.91666667e-03, 4.50000000e-02,\n",
       "       0.00000000e+00, 3.80000000e-01, 0.00000000e+00, 4.00000000e-03,\n",
       "       2.47500000e-02, 0.00000000e+00, 7.00000000e-03, 4.50000000e-02,\n",
       "       0.00000000e+00, 0.00000000e+00, 0.00000000e+00, 6.00000000e-03,\n",
       "       0.00000000e+00, 0.00000000e+00, 2.56000000e-01, 5.00000000e-03,\n",
       "       0.00000000e+00, 1.54000000e-01, 2.00000000e-03, 0.00000000e+00,\n",
       "       3.05833333e-02, 2.00000000e-03, 2.08500000e-01, 1.00000000e-03,\n",
       "       1.00000000e+00, 0.00000000e+00, 1.31083333e-01, 0.00000000e+00,\n",
       "       5.14000000e-01, 0.00000000e+00])"
      ]
     },
     "execution_count": 13,
     "metadata": {},
     "output_type": "execute_result"
    }
   ],
   "source": [
    "y_pred = model.predict(X_test)\n",
    "y_pred"
   ]
  },
  {
   "cell_type": "code",
   "execution_count": 14,
   "metadata": {},
   "outputs": [],
   "source": [
    "df = pd.DataFrame({'Actual': y_test, 'Predicted': y_pred})\n"
   ]
  },
  {
   "cell_type": "code",
   "execution_count": 21,
   "metadata": {},
   "outputs": [
    {
     "data": {
      "text/html": [
       "<div>\n",
       "<style scoped>\n",
       "    .dataframe tbody tr th:only-of-type {\n",
       "        vertical-align: middle;\n",
       "    }\n",
       "\n",
       "    .dataframe tbody tr th {\n",
       "        vertical-align: top;\n",
       "    }\n",
       "\n",
       "    .dataframe thead th {\n",
       "        text-align: right;\n",
       "    }\n",
       "</style>\n",
       "<table border=\"1\" class=\"dataframe\">\n",
       "  <thead>\n",
       "    <tr style=\"text-align: right;\">\n",
       "      <th></th>\n",
       "      <th>Actual</th>\n",
       "      <th>Predicted</th>\n",
       "    </tr>\n",
       "  </thead>\n",
       "  <tbody>\n",
       "    <tr>\n",
       "      <th>608</th>\n",
       "      <td>0</td>\n",
       "      <td>0.003</td>\n",
       "    </tr>\n",
       "    <tr>\n",
       "      <th>457</th>\n",
       "      <td>1</td>\n",
       "      <td>1.000</td>\n",
       "    </tr>\n",
       "    <tr>\n",
       "      <th>290</th>\n",
       "      <td>0</td>\n",
       "      <td>0.001</td>\n",
       "    </tr>\n",
       "    <tr>\n",
       "      <th>558</th>\n",
       "      <td>0</td>\n",
       "      <td>0.000</td>\n",
       "    </tr>\n",
       "    <tr>\n",
       "      <th>168</th>\n",
       "      <td>0</td>\n",
       "      <td>0.000</td>\n",
       "    </tr>\n",
       "  </tbody>\n",
       "</table>\n",
       "</div>"
      ],
      "text/plain": [
       "     Actual  Predicted\n",
       "608       0      0.003\n",
       "457       1      1.000\n",
       "290       0      0.001\n",
       "558       0      0.000\n",
       "168       0      0.000"
      ]
     },
     "execution_count": 21,
     "metadata": {},
     "output_type": "execute_result"
    }
   ],
   "source": [
    "df1 = df.head(5)\n",
    "df1"
   ]
  },
  {
   "cell_type": "code",
   "execution_count": 39,
   "metadata": {},
   "outputs": [
    {
     "data": {
      "text/plain": [
       "<matplotlib.axes._subplots.AxesSubplot at 0x1c47887c388>"
      ]
     },
     "execution_count": 39,
     "metadata": {},
     "output_type": "execute_result"
    },
    {
     "data": {
      "image/png": "[encoded data removed]",
      "text/plain": [
       "<Figure size 432x288 with 1 Axes>"
      ]
     },
     "metadata": {
      "needs_background": "light"
     },
     "output_type": "display_data"
    }
   ],
   "source": [
    "df1.plot(kind='bar',title='Death Prediction')"
   ]
  },
  {
   "cell_type": "code",
   "execution_count": null,
   "metadata": {},
   "outputs": [],
   "source": []
  }
 ],
 "metadata": {
  "kernelspec": {
   "display_name": "Python 3",
   "language": "python",
   "name": "python3"
  },
  "language_info": {
   "codemirror_mode": {
    "name": "ipython",
    "version": 3
   },
   "file_extension": ".py",
   "mimetype": "text/x-python",
   "name": "python",
   "nbconvert_exporter": "python",
   "pygments_lexer": "ipython3",
   "version": "3.7.6"
  }
 },
 "nbformat": 4,
 "nbformat_minor": 4
}
